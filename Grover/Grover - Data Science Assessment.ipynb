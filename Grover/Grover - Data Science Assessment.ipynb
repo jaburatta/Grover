{
 "cells": [
  {
   "cell_type": "markdown",
   "id": "93cc0e67",
   "metadata": {},
   "source": [
    "#### PROJECT : GROVER - Data Science Assessment $\\;\\;\\;\\;\\;\\;\\;\\;\\;\\;\\;\\;\\;\\;\\;\\;$  Author: Adegboyega Adesanya $\\;\\;\\;\\;\\;\\;\\;\\;\\;\\;\\;\\;\\;\\;\\;\\;\\;\\;\\;\\;\\;\\;\\;\\;\\;$  Date: Feb 28, 2022"
   ]
  },
  {
   "cell_type": "markdown",
   "id": "09fe5f97",
   "metadata": {},
   "source": [
    "#### Objective:\n",
    "Build a Machine Learning Model that correctly classifies label \" y \" maximizing performance on validation data"
   ]
  },
  {
   "cell_type": "markdown",
   "id": "0184bd90",
   "metadata": {},
   "source": [
    "#### Steps/Approach (CRISP-DM Methodology):\n",
    "- **Business Understanding** - Understand the business pain point from the objectives we are looking to achieve.\n",
    "- **Data Gathering** - Gather relevant data to solve business problem (the provided data)\n",
    "- **Data understanding** - A quick run through the data to understand each field and what it means.\n",
    "- **Data Preparation:**\n",
    "    - *Exploratory Data Analysis (EDA)*: Here the data is assessed and visualized to better understand it\n",
    "    - *Data Cleaning/ Preprocessing*: Missing values are handled here, unwanted data are dropped or modified to suit our purpose\n",
    "    - *Data Preparation for modelling*: Here we balance the dataset if possible, tokenize it, normalize/standardize the data\n",
    "- **Modelling** - Using different machine learning algorithms, we train several models, tune its parameters and select one which best solve the business problem\n",
    "- **Evaluation** - This is based on the selected model; we evaluate it with the holdout/ test dataset. "
   ]
  },
  {
   "cell_type": "code",
   "execution_count": 1,
   "id": "762d6f12",
   "metadata": {},
   "outputs": [],
   "source": [
    "# import necessary data manipulation libraries\n",
    "import pandas as pd\n",
    "import numpy as np\n",
    "\n",
    "# Import the neccessary machine learning libraries\n",
    "from sklearn.preprocessing import StandardScaler\n",
    "from sklearn.neighbors import KNeighborsClassifier\n",
    "from sklearn.tree import DecisionTreeClassifier\n",
    "from sklearn.ensemble import RandomForestClassifier, AdaBoostClassifier\n",
    "from sklearn.naive_bayes import GaussianNB\n",
    "from sklearn.linear_model import LogisticRegression \n",
    "from sklearn.model_selection import cross_val_score,RandomizedSearchCV\n",
    "from sklearn.metrics import accuracy_score, classification_report, confusion_matrix\n",
    "from sklearn.pipeline import Pipeline\n",
    "from sklearn.feature_selection import f_classif\n",
    "\n",
    "# import necessary statistical library\n",
    "from scipy.stats import chi2_contingency\n",
    "\n",
    "# import the SMOTE library from imblearn for the purpose of balancing the dataset\n",
    "from imblearn.over_sampling import SMOTE\n",
    "\n",
    "# import necessary data visualization libraries\n",
    "import seaborn as sns\n",
    "import matplotlib.pyplot as plt\n",
    "sns.set()\n",
    "\n",
    "# Necessary Settings\n",
    "pd.set_option('display.max_columns', None)\n",
    "pd.set_option('display.max_rows', None)\n",
    "import warnings\n",
    "warnings.filterwarnings('ignore')"
   ]
  },
  {
   "cell_type": "code",
   "execution_count": 2,
   "id": "e42aa7f5",
   "metadata": {
    "scrolled": true
   },
   "outputs": [
    {
     "data": {
      "text/html": [
       "<div>\n",
       "<style scoped>\n",
       "    .dataframe tbody tr th:only-of-type {\n",
       "        vertical-align: middle;\n",
       "    }\n",
       "\n",
       "    .dataframe tbody tr th {\n",
       "        vertical-align: top;\n",
       "    }\n",
       "\n",
       "    .dataframe thead th {\n",
       "        text-align: right;\n",
       "    }\n",
       "</style>\n",
       "<table border=\"1\" class=\"dataframe\">\n",
       "  <thead>\n",
       "    <tr style=\"text-align: right;\">\n",
       "      <th></th>\n",
       "      <th>x.0</th>\n",
       "      <th>x.1</th>\n",
       "      <th>x.2</th>\n",
       "      <th>x.3</th>\n",
       "      <th>x.4</th>\n",
       "      <th>x.5</th>\n",
       "      <th>x.6</th>\n",
       "      <th>x.7</th>\n",
       "      <th>x.8</th>\n",
       "      <th>x.9</th>\n",
       "      <th>x.10</th>\n",
       "      <th>x.11</th>\n",
       "      <th>x.12</th>\n",
       "      <th>x.13</th>\n",
       "      <th>x.14</th>\n",
       "      <th>x.20</th>\n",
       "      <th>x.17</th>\n",
       "      <th>x.18</th>\n",
       "      <th>x.19</th>\n",
       "      <th>x.16</th>\n",
       "      <th>y</th>\n",
       "    </tr>\n",
       "  </thead>\n",
       "  <tbody>\n",
       "    <tr>\n",
       "      <th>0</th>\n",
       "      <td>b</td>\n",
       "      <td>30,83</td>\n",
       "      <td>f</td>\n",
       "      <td>u</td>\n",
       "      <td>g</td>\n",
       "      <td>w</td>\n",
       "      <td>v</td>\n",
       "      <td>1.25</td>\n",
       "      <td>t</td>\n",
       "      <td>t</td>\n",
       "      <td>t</td>\n",
       "      <td>f</td>\n",
       "      <td>g</td>\n",
       "      <td>202.0</td>\n",
       "      <td>f</td>\n",
       "      <td>t</td>\n",
       "      <td>116,94256980957068</td>\n",
       "      <td>0,5787085579422866</td>\n",
       "      <td>202000.0</td>\n",
       "      <td>f</td>\n",
       "      <td>good</td>\n",
       "    </tr>\n",
       "    <tr>\n",
       "      <th>1</th>\n",
       "      <td>a</td>\n",
       "      <td>58,67</td>\n",
       "      <td>4.46</td>\n",
       "      <td>u</td>\n",
       "      <td>g</td>\n",
       "      <td>q</td>\n",
       "      <td>h</td>\n",
       "      <td>3.04</td>\n",
       "      <td>t</td>\n",
       "      <td>t</td>\n",
       "      <td>6</td>\n",
       "      <td>f</td>\n",
       "      <td>g</td>\n",
       "      <td>43.0</td>\n",
       "      <td>560</td>\n",
       "      <td>t</td>\n",
       "      <td>225,60625307204938</td>\n",
       "      <td>25,409645364400404</td>\n",
       "      <td>43000.0</td>\n",
       "      <td>f</td>\n",
       "      <td>good</td>\n",
       "    </tr>\n",
       "    <tr>\n",
       "      <th>2</th>\n",
       "      <td>a</td>\n",
       "      <td>24,5</td>\n",
       "      <td>0.5</td>\n",
       "      <td>u</td>\n",
       "      <td>g</td>\n",
       "      <td>q</td>\n",
       "      <td>h</td>\n",
       "      <td>1.5</td>\n",
       "      <td>t</td>\n",
       "      <td>f</td>\n",
       "      <td>f</td>\n",
       "      <td>f</td>\n",
       "      <td>g</td>\n",
       "      <td>280.0</td>\n",
       "      <td>824</td>\n",
       "      <td>t</td>\n",
       "      <td>92,08407670672422</td>\n",
       "      <td>2,3173371593153314</td>\n",
       "      <td>280000.0</td>\n",
       "      <td>f</td>\n",
       "      <td>good</td>\n",
       "    </tr>\n",
       "    <tr>\n",
       "      <th>3</th>\n",
       "      <td>b</td>\n",
       "      <td>27,83</td>\n",
       "      <td>1.54</td>\n",
       "      <td>u</td>\n",
       "      <td>g</td>\n",
       "      <td>w</td>\n",
       "      <td>v</td>\n",
       "      <td>3.75</td>\n",
       "      <td>t</td>\n",
       "      <td>t</td>\n",
       "      <td>5</td>\n",
       "      <td>t</td>\n",
       "      <td>g</td>\n",
       "      <td>100.0</td>\n",
       "      <td>3</td>\n",
       "      <td>t</td>\n",
       "      <td>104,16291777029285</td>\n",
       "      <td>8,04533772976642</td>\n",
       "      <td>100000.0</td>\n",
       "      <td>f</td>\n",
       "      <td>good</td>\n",
       "    </tr>\n",
       "    <tr>\n",
       "      <th>4</th>\n",
       "      <td>b</td>\n",
       "      <td>20,17</td>\n",
       "      <td>5.625</td>\n",
       "      <td>u</td>\n",
       "      <td>g</td>\n",
       "      <td>w</td>\n",
       "      <td>v</td>\n",
       "      <td>1.71</td>\n",
       "      <td>t</td>\n",
       "      <td>f</td>\n",
       "      <td>f</td>\n",
       "      <td>f</td>\n",
       "      <td>s</td>\n",
       "      <td>120.0</td>\n",
       "      <td>f</td>\n",
       "      <td>t</td>\n",
       "      <td>77,8703024439662</td>\n",
       "      <td>31,111460957322073</td>\n",
       "      <td>120000.0</td>\n",
       "      <td>f</td>\n",
       "      <td>good</td>\n",
       "    </tr>\n",
       "  </tbody>\n",
       "</table>\n",
       "</div>"
      ],
      "text/plain": [
       "  x.0    x.1    x.2 x.3 x.4 x.5 x.6   x.7 x.8 x.9 x.10 x.11 x.12   x.13 x.14  \\\n",
       "0   b  30,83      f   u   g   w   v  1.25   t   t    t    f    g  202.0    f   \n",
       "1   a  58,67   4.46   u   g   q   h  3.04   t   t    6    f    g   43.0  560   \n",
       "2   a   24,5    0.5   u   g   q   h   1.5   t   f    f    f    g  280.0  824   \n",
       "3   b  27,83   1.54   u   g   w   v  3.75   t   t    5    t    g  100.0    3   \n",
       "4   b  20,17  5.625   u   g   w   v  1.71   t   f    f    f    s  120.0    f   \n",
       "\n",
       "  x.20                x.17                x.18      x.19 x.16     y  \n",
       "0    t  116,94256980957068  0,5787085579422866  202000.0    f  good  \n",
       "1    t  225,60625307204938  25,409645364400404   43000.0    f  good  \n",
       "2    t   92,08407670672422  2,3173371593153314  280000.0    f  good  \n",
       "3    t  104,16291777029285    8,04533772976642  100000.0    f  good  \n",
       "4    t    77,8703024439662  31,111460957322073  120000.0    f  good  "
      ]
     },
     "execution_count": 2,
     "metadata": {},
     "output_type": "execute_result"
    }
   ],
   "source": [
    "## Read in the trainind dataset\n",
    "data = pd.read_csv('training_grover.csv',sep=';', index_col=0)\n",
    "data.head(5)"
   ]
  },
  {
   "cell_type": "markdown",
   "id": "cfe0e798",
   "metadata": {},
   "source": [
    "### Data Understanding\n",
    "\n",
    "Here the data was read in and a quick snoop through the data was made to understand each feature in it. Understanding each feature entails we understand the data types in each feature and how they can be handled for our analysis."
   ]
  },
  {
   "cell_type": "code",
   "execution_count": 3,
   "id": "30e0bcb8",
   "metadata": {
    "scrolled": false
   },
   "outputs": [
    {
     "data": {
      "text/plain": [
       "(2671, 21)"
      ]
     },
     "execution_count": 3,
     "metadata": {},
     "output_type": "execute_result"
    }
   ],
   "source": [
    "### checking the dataset shape\n",
    "data.shape"
   ]
  },
  {
   "cell_type": "code",
   "execution_count": 4,
   "id": "8aa9cafa",
   "metadata": {
    "scrolled": false
   },
   "outputs": [
    {
     "name": "stdout",
     "output_type": "stream",
     "text": [
      "<class 'pandas.core.frame.DataFrame'>\n",
      "Int64Index: 2671 entries, 0 to 2670\n",
      "Data columns (total 21 columns):\n",
      " #   Column  Non-Null Count  Dtype \n",
      "---  ------  --------------  ----- \n",
      " 0   x.0     2671 non-null   object\n",
      " 1   x.1     2671 non-null   object\n",
      " 2   x.2     2671 non-null   object\n",
      " 3   x.3     2671 non-null   object\n",
      " 4   x.4     2671 non-null   object\n",
      " 5   x.5     2671 non-null   object\n",
      " 6   x.6     2671 non-null   object\n",
      " 7   x.7     2671 non-null   object\n",
      " 8   x.8     2671 non-null   object\n",
      " 9   x.9     2671 non-null   object\n",
      " 10  x.10    2671 non-null   object\n",
      " 11  x.11    2671 non-null   object\n",
      " 12  x.12    2671 non-null   object\n",
      " 13  x.13    2671 non-null   object\n",
      " 14  x.14    2671 non-null   object\n",
      " 15  x.20    2671 non-null   object\n",
      " 16  x.17    2671 non-null   object\n",
      " 17  x.18    2671 non-null   object\n",
      " 18  x.19    2671 non-null   object\n",
      " 19  x.16    2671 non-null   object\n",
      " 20  y       2671 non-null   object\n",
      "dtypes: object(21)\n",
      "memory usage: 459.1+ KB\n"
     ]
    }
   ],
   "source": [
    "# a quick overview of the general dataset\n",
    "data.info()"
   ]
  },
  {
   "cell_type": "markdown",
   "id": "cc44cd05",
   "metadata": {},
   "source": [
    "#### Quick snoop into the data\n",
    "\n",
    "This helps in better understanding of the data and how preprocessing can be done "
   ]
  },
  {
   "cell_type": "code",
   "execution_count": 5,
   "id": "61289f3a",
   "metadata": {
    "scrolled": true
   },
   "outputs": [
    {
     "data": {
      "text/plain": [
       "b    1833\n",
       "a     823\n",
       "?      15\n",
       "Name: x.0, dtype: int64"
      ]
     },
     "execution_count": 5,
     "metadata": {},
     "output_type": "execute_result"
    }
   ],
   "source": [
    "data['x.0'].value_counts()  ## ?"
   ]
  },
  {
   "cell_type": "code",
   "execution_count": 6,
   "id": "d6942208",
   "metadata": {},
   "outputs": [
    {
     "data": {
      "text/plain": [
       "23,25    47\n",
       "35,17    41\n",
       "39,92    37\n",
       "19,17    33\n",
       "24,5     28\n",
       "Name: x.1, dtype: int64"
      ]
     },
     "execution_count": 6,
     "metadata": {},
     "output_type": "execute_result"
    }
   ],
   "source": [
    "## Numerical values with commas\n",
    "data['x.1'].value_counts().head() # , ?"
   ]
  },
  {
   "cell_type": "code",
   "execution_count": 7,
   "id": "6389fa6b",
   "metadata": {},
   "outputs": [
    {
     "data": {
      "text/plain": [
       "6.5     74\n",
       "f       73\n",
       "0.5     70\n",
       "5.0     69\n",
       "11.0    66\n",
       "Name: x.2, dtype: int64"
      ]
     },
     "execution_count": 7,
     "metadata": {},
     "output_type": "execute_result"
    }
   ],
   "source": [
    "# feature with mixed data type string and numerics\n",
    "data['x.2'].value_counts().head()  ## f, t"
   ]
  },
  {
   "cell_type": "code",
   "execution_count": 8,
   "id": "db05075e",
   "metadata": {},
   "outputs": [
    {
     "data": {
      "text/plain": [
       "u    2166\n",
       "y     464\n",
       "?      24\n",
       "l      17\n",
       "Name: x.3, dtype: int64"
      ]
     },
     "execution_count": 8,
     "metadata": {},
     "output_type": "execute_result"
    }
   ],
   "source": [
    "data['x.3'].value_counts() "
   ]
  },
  {
   "cell_type": "code",
   "execution_count": 9,
   "id": "3035608b",
   "metadata": {},
   "outputs": [
    {
     "data": {
      "text/plain": [
       "g     2166\n",
       "p      464\n",
       "?       24\n",
       "gg      17\n",
       "Name: x.4, dtype: int64"
      ]
     },
     "execution_count": 9,
     "metadata": {},
     "output_type": "execute_result"
    }
   ],
   "source": [
    "data['x.4'].value_counts()"
   ]
  },
  {
   "cell_type": "code",
   "execution_count": 10,
   "id": "88ae3839",
   "metadata": {},
   "outputs": [
    {
     "data": {
      "text/plain": [
       "q     539\n",
       "c     422\n",
       "cc    290\n",
       "w     259\n",
       "x     198\n",
       "i     170\n",
       "aa    159\n",
       "m     149\n",
       "k     145\n",
       "e     114\n",
       "ff     85\n",
       "d      82\n",
       "?      25\n",
       "j      25\n",
       "r       9\n",
       "Name: x.5, dtype: int64"
      ]
     },
     "execution_count": 10,
     "metadata": {},
     "output_type": "execute_result"
    }
   ],
   "source": [
    "data['x.5'].value_counts()  # ? "
   ]
  },
  {
   "cell_type": "code",
   "execution_count": 11,
   "id": "4837728a",
   "metadata": {},
   "outputs": [
    {
     "data": {
      "text/plain": [
       "v     1415\n",
       "h      774\n",
       "bb     279\n",
       "ff      96\n",
       "z       44\n",
       "?       25\n",
       "j       13\n",
       "n       11\n",
       "o       10\n",
       "dd       4\n",
       "Name: x.6, dtype: int64"
      ]
     },
     "execution_count": 11,
     "metadata": {},
     "output_type": "execute_result"
    }
   ],
   "source": [
    "data['x.6'].value_counts()"
   ]
  },
  {
   "cell_type": "code",
   "execution_count": 12,
   "id": "53630982",
   "metadata": {
    "scrolled": true
   },
   "outputs": [
    {
     "data": {
      "text/plain": [
       "f       139\n",
       "0.04    129\n",
       "1.5     119\n",
       "2.5     104\n",
       "5.0     101\n",
       "Name: x.7, dtype: int64"
      ]
     },
     "execution_count": 12,
     "metadata": {},
     "output_type": "execute_result"
    }
   ],
   "source": [
    "data['x.7'].value_counts().head()"
   ]
  },
  {
   "cell_type": "code",
   "execution_count": 13,
   "id": "7f8ccf55",
   "metadata": {},
   "outputs": [
    {
     "data": {
      "text/plain": [
       "t    2257\n",
       "a     151\n",
       "c     147\n",
       "b     116\n",
       "Name: x.8, dtype: int64"
      ]
     },
     "execution_count": 13,
     "metadata": {},
     "output_type": "execute_result"
    }
   ],
   "source": [
    "data['x.8'].value_counts()"
   ]
  },
  {
   "cell_type": "code",
   "execution_count": 14,
   "id": "75585074",
   "metadata": {},
   "outputs": [
    {
     "data": {
      "text/plain": [
       "t    1662\n",
       "f    1009\n",
       "Name: x.9, dtype: int64"
      ]
     },
     "execution_count": 14,
     "metadata": {},
     "output_type": "execute_result"
    }
   ],
   "source": [
    "data['x.9'].value_counts()"
   ]
  },
  {
   "cell_type": "code",
   "execution_count": 15,
   "id": "4e5e64f7",
   "metadata": {},
   "outputs": [],
   "source": [
    "# data['x.10'].value_counts() "
   ]
  },
  {
   "cell_type": "code",
   "execution_count": 16,
   "id": "2fc6b9b2",
   "metadata": {},
   "outputs": [
    {
     "data": {
      "text/plain": [
       "f    1380\n",
       "t    1291\n",
       "Name: x.11, dtype: int64"
      ]
     },
     "execution_count": 16,
     "metadata": {},
     "output_type": "execute_result"
    }
   ],
   "source": [
    "data['x.11'].value_counts()"
   ]
  },
  {
   "cell_type": "code",
   "execution_count": 17,
   "id": "da194e9b",
   "metadata": {},
   "outputs": [
    {
     "data": {
      "text/plain": [
       "g    2480\n",
       "s     157\n",
       "p      34\n",
       "Name: x.12, dtype: int64"
      ]
     },
     "execution_count": 17,
     "metadata": {},
     "output_type": "execute_result"
    }
   ],
   "source": [
    "data['x.12'].value_counts()"
   ]
  },
  {
   "cell_type": "code",
   "execution_count": 18,
   "id": "09bbf014",
   "metadata": {},
   "outputs": [],
   "source": [
    "# data['x.13'].value_counts()  "
   ]
  },
  {
   "cell_type": "code",
   "execution_count": 19,
   "id": "c6a32e49",
   "metadata": {},
   "outputs": [],
   "source": [
    "# data['x.14'].value_counts() "
   ]
  },
  {
   "cell_type": "code",
   "execution_count": 20,
   "id": "7bd1d97f",
   "metadata": {},
   "outputs": [
    {
     "data": {
      "text/plain": [
       "f    1797\n",
       "?     668\n",
       "t     206\n",
       "Name: x.16, dtype: int64"
      ]
     },
     "execution_count": 20,
     "metadata": {},
     "output_type": "execute_result"
    }
   ],
   "source": [
    "data['x.16'].value_counts()"
   ]
  },
  {
   "cell_type": "code",
   "execution_count": 21,
   "id": "7e56922f",
   "metadata": {},
   "outputs": [
    {
     "data": {
      "text/plain": [
       "0.25009359790340696"
      ]
     },
     "execution_count": 21,
     "metadata": {},
     "output_type": "execute_result"
    }
   ],
   "source": [
    "## proportion of unknown values in 'x.16'\n",
    "668/2671"
   ]
  },
  {
   "cell_type": "code",
   "execution_count": 22,
   "id": "0016c418",
   "metadata": {},
   "outputs": [
    {
     "data": {
      "text/plain": [
       "142,71282893055113    21\n",
       "150,34527961856327    20\n",
       "76,48492583572703     20\n",
       "127,30605465811978    19\n",
       "74,2617471676903      18\n",
       "Name: x.17, dtype: int64"
      ]
     },
     "execution_count": 22,
     "metadata": {},
     "output_type": "execute_result"
    }
   ],
   "source": [
    "data['x.17'].value_counts().head()"
   ]
  },
  {
   "cell_type": "code",
   "execution_count": 23,
   "id": "18d4f2cb",
   "metadata": {},
   "outputs": [
    {
     "data": {
      "text/plain": [
       "5,502009139465553     21\n",
       "35,66336266708667     20\n",
       "1,7196083330867018    20\n",
       "1,4567043474025236    19\n",
       "63,286150252172135    18\n",
       "Name: x.18, dtype: int64"
      ]
     },
     "execution_count": 23,
     "metadata": {},
     "output_type": "execute_result"
    }
   ],
   "source": [
    "data['x.18'].value_counts().head()"
   ]
  },
  {
   "cell_type": "code",
   "execution_count": 24,
   "id": "78ca6604",
   "metadata": {},
   "outputs": [
    {
     "data": {
      "text/plain": [
       "f           658\n",
       "100000.0    157\n",
       "80000.0     146\n",
       "120000.0     92\n",
       "200000.0     86\n",
       "Name: x.19, dtype: int64"
      ]
     },
     "execution_count": 24,
     "metadata": {},
     "output_type": "execute_result"
    }
   ],
   "source": [
    "data['x.19'].value_counts().head()"
   ]
  },
  {
   "cell_type": "code",
   "execution_count": 25,
   "id": "b6f15758",
   "metadata": {},
   "outputs": [
    {
     "data": {
      "text/plain": [
       "?    2180\n",
       "t     252\n",
       "f     239\n",
       "Name: x.20, dtype: int64"
      ]
     },
     "execution_count": 25,
     "metadata": {},
     "output_type": "execute_result"
    }
   ],
   "source": [
    "data['x.20'].value_counts()"
   ]
  },
  {
   "cell_type": "code",
   "execution_count": 26,
   "id": "2e8ef000",
   "metadata": {},
   "outputs": [
    {
     "data": {
      "text/plain": [
       "0.8161737177087234"
      ]
     },
     "execution_count": 26,
     "metadata": {},
     "output_type": "execute_result"
    }
   ],
   "source": [
    "## proportion of unknown values in 'x.20'\n",
    "2180/2671"
   ]
  },
  {
   "cell_type": "code",
   "execution_count": 27,
   "id": "1fb63982",
   "metadata": {},
   "outputs": [
    {
     "data": {
      "text/plain": [
       "good    2398\n",
       "bad      273\n",
       "Name: y, dtype: int64"
      ]
     },
     "execution_count": 27,
     "metadata": {},
     "output_type": "execute_result"
    }
   ],
   "source": [
    "#Check how balanced the dataset is using the target label\n",
    "data['y'].value_counts()"
   ]
  },
  {
   "cell_type": "markdown",
   "id": "121aea81",
   "metadata": {},
   "source": [
    "**NOTE:**The Data understanding segment ensured I understood the data shape, data info and each feature in the dataset. Given the dataset is not very large, I was able to navigate through the data and discovered the following:\n",
    "\n",
    "- All the features are of data type object\n",
    "- Some features are majorly alphabets/letters with **\" ? \"** which I assumed to be unknown/missing data\n",
    "- Some features that are supposed to be of numerical data type has some alphabets/strings in them\n",
    "- some features have double letters in them e.g \" bb \", \" ff \" etc.\n",
    "- Some features have large missing information in them e.g. \" x.16 \" and \" x.20 \"\n",
    "- The dataset is not balanced\n",
    "\n",
    "\n",
    "All of the above concerns will be taken care of in the data cleaning/preprocessing section\n"
   ]
  },
  {
   "cell_type": "markdown",
   "id": "2a063f01",
   "metadata": {},
   "source": [
    "### Data Cleaning / Preprocessing\n",
    "\n",
    "The data cleaning/ preprocessing section is where we check for missing values and handle them appropriately, check for correct data format in each variable and convert to the appropriate format if not appropriate, remove white spaces in data if present, and generally make the data almost ready for further analysis."
   ]
  },
  {
   "cell_type": "markdown",
   "id": "3fc181b7",
   "metadata": {},
   "source": [
    "**Data Cleaning/Preprocessing Steps:**\n",
    "- Drop Variables/ Features with **\" ? \"** greater than 10% of the variable population. This is essential because variables with large missing values can cause bias in our model if handled poorly. \n",
    "- If a feature is supposed to be categorical or of data type object, replace **\" ? \"** with the modal class or replace with the next modal class if **\" ? \"** is the original modal class\n",
    "- In a supposed numerical variable replace **\" , \"** in numerical values with **\" . \"**. \n",
    "- A supposed numerical feature having string values like **\" f \"**, **\" b \"**  etc. These string values are being replaced with the median of the supposed numerical feature. This is done to ensure data homogeneity in the feature and reduce the effect of outliers when replacing them with median instead of mean.\n",
    "- In a supposed categorical feature, if an object appear in its double form. say **\" bb \"**, **\" tt \"**, it is strip down to return just a single value like **\" b \"** or **\" t \"**\n",
    "- A supposed numerical feature is being converted to float\n",
    "\n",
    "**NOTE:** Assumption made is that **\" ? \"** stands for an unknown value."
   ]
  },
  {
   "cell_type": "markdown",
   "id": "7c700ae8",
   "metadata": {},
   "source": [
    "#### Created some helper functions to help in data cleaning"
   ]
  },
  {
   "cell_type": "code",
   "execution_count": 28,
   "id": "1e691d61",
   "metadata": {},
   "outputs": [],
   "source": [
    "def drop_large_missing_values(data):\n",
    "    '''\n",
    "    This function drops missing values or unknown values greater than 10%\n",
    "    of the variable population\n",
    "    \n",
    "    parameter::\n",
    "    - data :: Dataframe object\n",
    "    '''\n",
    "    # iteratively pick variables in the dataset\n",
    "    for var in data.columns:\n",
    "        # get count of each category in the variable and parse to dictionary\n",
    "        result = data[var].value_counts().to_dict()\n",
    "        # iteratively pick keys and values from parsed dictionary\n",
    "        for keys, values in result.items():\n",
    "            # if the condition holds and \" ? \" which is missing value greater than 10%\n",
    "            if keys == '?' and values/data[var].shape[0] > 0.10:\n",
    "                # drop the variable \n",
    "                data.drop(var, axis=1, inplace=True)\n",
    "            else:\n",
    "                pass\n",
    "    # return data         \n",
    "    return data"
   ]
  },
  {
   "cell_type": "code",
   "execution_count": 29,
   "id": "bed721cd",
   "metadata": {},
   "outputs": [],
   "source": [
    "# This function handles the preprocessing/ data cleaning steps outlined above\n",
    "def preprocess(data, variable):\n",
    "    '''\n",
    "    This function helps in cleaning the data \n",
    "    \n",
    "    parameters::\n",
    "    - data :: dataframe object\n",
    "    - variable :: variable to be cleaned\n",
    "    \n",
    "    output::\n",
    "    - returns a pandas series of the cleaned variable\n",
    "    '''\n",
    "    ## set empty list to track values in the variables\n",
    "    int_val = []\n",
    "    str_val = []\n",
    "    \n",
    "    # Iterate through the variable getting its unique value from a list\n",
    "    for i in data[variable].unique().tolist():\n",
    "        try:\n",
    "            # Here the variable is checked for commas. if present replace with '.', cast as float,\n",
    "            # and then append to int_val that tracks integer values\n",
    "            int_val.append(float(i.replace(',','.')))\n",
    "        except Exception as e:\n",
    "            # incase of exception, data casting to float was unsuccessful, then data is a string value\n",
    "            str_val.append(i)\n",
    "    \n",
    "    # get median value of numerica values in int val, this is used to replace letters or characters in \n",
    "    # a supposed numerical colum. Median was used in place of mean due to outlier's effect on mean value\n",
    "    median_val = np.median(int_val)\n",
    "    # For variables with dtype as object, get the modal class if not '?', '?' will be replaced with the modal class\n",
    "    mode_val = data[data[variable] != '?'][variable].mode().values[0]\n",
    "    \n",
    "    # if numerical value tracker is empty, then the current variable in consideration is most likely of object type\n",
    "    # Here we replace '?' with the next class with high frequency or mode.\n",
    "    if int_val == []:\n",
    "        data[variable] = np.where(data[variable] =='?', mode_val, data[variable])\n",
    "        # for double objects in variables like 'bb', 'ff' replace with just single occurence like 'b', 'f'\n",
    "        for j in data[variable].unique().tolist():\n",
    "            data[variable] = np.where(data[variable] == j , j[:1], data[variable])\n",
    "    else:\n",
    "        # Replace commas in numerical vales with period '.'\n",
    "        for index in data[variable].index:\n",
    "            data[variable][index] = data[variable][index].replace(',', '.')\n",
    "        # if there are characters in numerical columns, replace with the median value of the object in the column\n",
    "        data[variable] = np.where(data[variable].isin(str_val), median_val, data[variable])\n",
    "        # convert to float\n",
    "        data[variable] = data[variable].astype(np.float)\n",
    "        \n",
    "    # return a cleaned pandas series\n",
    "    return data[variable]"
   ]
  },
  {
   "cell_type": "code",
   "execution_count": 30,
   "id": "45ba14c1",
   "metadata": {},
   "outputs": [],
   "source": [
    "#################### Data Preprocessing #################################"
   ]
  },
  {
   "cell_type": "code",
   "execution_count": 31,
   "id": "5b67611c",
   "metadata": {},
   "outputs": [],
   "source": [
    "### Get a copy of the original data so as not to overwrite the original data and run our preprocessing steps\n",
    "training_data = data.copy()"
   ]
  },
  {
   "cell_type": "code",
   "execution_count": 32,
   "id": "cd6f5337",
   "metadata": {},
   "outputs": [],
   "source": [
    "### Encode Target Variable \n",
    "training_data['y'] = training_data['y'].replace({'good': '1', 'bad': '0'})"
   ]
  },
  {
   "cell_type": "code",
   "execution_count": 33,
   "id": "46fbba7e",
   "metadata": {},
   "outputs": [],
   "source": [
    "### Drop Variables with Large missing values ('?')\n",
    "training_data = drop_large_missing_values(training_data)"
   ]
  },
  {
   "cell_type": "code",
   "execution_count": 34,
   "id": "b4fb97e3",
   "metadata": {},
   "outputs": [
    {
     "data": {
      "text/plain": [
       "(2671, 19)"
      ]
     },
     "execution_count": 34,
     "metadata": {},
     "output_type": "execute_result"
    }
   ],
   "source": [
    "## Dataset dimesnsion after dropping variables with large unknown values ('?')\n",
    "training_data.shape"
   ]
  },
  {
   "cell_type": "code",
   "execution_count": 35,
   "id": "6b436b2a",
   "metadata": {},
   "outputs": [],
   "source": [
    "# Apply data preprocessing function in order to clean the data\n",
    "for column in training_data.columns:\n",
    "    training_data[column] = preprocess(training_data, column)"
   ]
  },
  {
   "cell_type": "code",
   "execution_count": 36,
   "id": "19994ad6",
   "metadata": {},
   "outputs": [
    {
     "data": {
      "text/html": [
       "<div>\n",
       "<style scoped>\n",
       "    .dataframe tbody tr th:only-of-type {\n",
       "        vertical-align: middle;\n",
       "    }\n",
       "\n",
       "    .dataframe tbody tr th {\n",
       "        vertical-align: top;\n",
       "    }\n",
       "\n",
       "    .dataframe thead th {\n",
       "        text-align: right;\n",
       "    }\n",
       "</style>\n",
       "<table border=\"1\" class=\"dataframe\">\n",
       "  <thead>\n",
       "    <tr style=\"text-align: right;\">\n",
       "      <th></th>\n",
       "      <th>x.0</th>\n",
       "      <th>x.1</th>\n",
       "      <th>x.2</th>\n",
       "      <th>x.3</th>\n",
       "      <th>x.4</th>\n",
       "      <th>x.5</th>\n",
       "      <th>x.6</th>\n",
       "      <th>x.7</th>\n",
       "      <th>x.8</th>\n",
       "      <th>x.9</th>\n",
       "      <th>x.10</th>\n",
       "      <th>x.11</th>\n",
       "      <th>x.12</th>\n",
       "      <th>x.13</th>\n",
       "      <th>x.14</th>\n",
       "      <th>x.17</th>\n",
       "      <th>x.18</th>\n",
       "      <th>x.19</th>\n",
       "      <th>y</th>\n",
       "    </tr>\n",
       "  </thead>\n",
       "  <tbody>\n",
       "    <tr>\n",
       "      <th>0</th>\n",
       "      <td>b</td>\n",
       "      <td>30.83</td>\n",
       "      <td>5.3525</td>\n",
       "      <td>u</td>\n",
       "      <td>g</td>\n",
       "      <td>w</td>\n",
       "      <td>v</td>\n",
       "      <td>1.25</td>\n",
       "      <td>t</td>\n",
       "      <td>t</td>\n",
       "      <td>11.5</td>\n",
       "      <td>f</td>\n",
       "      <td>g</td>\n",
       "      <td>202.0</td>\n",
       "      <td>555.5</td>\n",
       "      <td>116.942570</td>\n",
       "      <td>0.578709</td>\n",
       "      <td>202000.0</td>\n",
       "      <td>1.0</td>\n",
       "    </tr>\n",
       "    <tr>\n",
       "      <th>1</th>\n",
       "      <td>a</td>\n",
       "      <td>58.67</td>\n",
       "      <td>4.4600</td>\n",
       "      <td>u</td>\n",
       "      <td>g</td>\n",
       "      <td>q</td>\n",
       "      <td>h</td>\n",
       "      <td>3.04</td>\n",
       "      <td>t</td>\n",
       "      <td>t</td>\n",
       "      <td>6.0</td>\n",
       "      <td>f</td>\n",
       "      <td>g</td>\n",
       "      <td>43.0</td>\n",
       "      <td>560.0</td>\n",
       "      <td>225.606253</td>\n",
       "      <td>25.409645</td>\n",
       "      <td>43000.0</td>\n",
       "      <td>1.0</td>\n",
       "    </tr>\n",
       "    <tr>\n",
       "      <th>2</th>\n",
       "      <td>a</td>\n",
       "      <td>24.50</td>\n",
       "      <td>0.5000</td>\n",
       "      <td>u</td>\n",
       "      <td>g</td>\n",
       "      <td>q</td>\n",
       "      <td>h</td>\n",
       "      <td>1.50</td>\n",
       "      <td>t</td>\n",
       "      <td>f</td>\n",
       "      <td>11.5</td>\n",
       "      <td>f</td>\n",
       "      <td>g</td>\n",
       "      <td>280.0</td>\n",
       "      <td>824.0</td>\n",
       "      <td>92.084077</td>\n",
       "      <td>2.317337</td>\n",
       "      <td>280000.0</td>\n",
       "      <td>1.0</td>\n",
       "    </tr>\n",
       "    <tr>\n",
       "      <th>3</th>\n",
       "      <td>b</td>\n",
       "      <td>27.83</td>\n",
       "      <td>1.5400</td>\n",
       "      <td>u</td>\n",
       "      <td>g</td>\n",
       "      <td>w</td>\n",
       "      <td>v</td>\n",
       "      <td>3.75</td>\n",
       "      <td>t</td>\n",
       "      <td>t</td>\n",
       "      <td>5.0</td>\n",
       "      <td>t</td>\n",
       "      <td>g</td>\n",
       "      <td>100.0</td>\n",
       "      <td>3.0</td>\n",
       "      <td>104.162918</td>\n",
       "      <td>8.045338</td>\n",
       "      <td>100000.0</td>\n",
       "      <td>1.0</td>\n",
       "    </tr>\n",
       "    <tr>\n",
       "      <th>4</th>\n",
       "      <td>b</td>\n",
       "      <td>20.17</td>\n",
       "      <td>5.6250</td>\n",
       "      <td>u</td>\n",
       "      <td>g</td>\n",
       "      <td>w</td>\n",
       "      <td>v</td>\n",
       "      <td>1.71</td>\n",
       "      <td>t</td>\n",
       "      <td>f</td>\n",
       "      <td>11.5</td>\n",
       "      <td>f</td>\n",
       "      <td>s</td>\n",
       "      <td>120.0</td>\n",
       "      <td>555.5</td>\n",
       "      <td>77.870302</td>\n",
       "      <td>31.111461</td>\n",
       "      <td>120000.0</td>\n",
       "      <td>1.0</td>\n",
       "    </tr>\n",
       "  </tbody>\n",
       "</table>\n",
       "</div>"
      ],
      "text/plain": [
       "  x.0    x.1     x.2 x.3 x.4 x.5 x.6   x.7 x.8 x.9  x.10 x.11 x.12   x.13  \\\n",
       "0   b  30.83  5.3525   u   g   w   v  1.25   t   t  11.5    f    g  202.0   \n",
       "1   a  58.67  4.4600   u   g   q   h  3.04   t   t   6.0    f    g   43.0   \n",
       "2   a  24.50  0.5000   u   g   q   h  1.50   t   f  11.5    f    g  280.0   \n",
       "3   b  27.83  1.5400   u   g   w   v  3.75   t   t   5.0    t    g  100.0   \n",
       "4   b  20.17  5.6250   u   g   w   v  1.71   t   f  11.5    f    s  120.0   \n",
       "\n",
       "    x.14        x.17       x.18      x.19    y  \n",
       "0  555.5  116.942570   0.578709  202000.0  1.0  \n",
       "1  560.0  225.606253  25.409645   43000.0  1.0  \n",
       "2  824.0   92.084077   2.317337  280000.0  1.0  \n",
       "3    3.0  104.162918   8.045338  100000.0  1.0  \n",
       "4  555.5   77.870302  31.111461  120000.0  1.0  "
      ]
     },
     "execution_count": 36,
     "metadata": {},
     "output_type": "execute_result"
    }
   ],
   "source": [
    "## Sample of the data after being cleaned\n",
    "training_data.head()"
   ]
  },
  {
   "cell_type": "markdown",
   "id": "70403163",
   "metadata": {},
   "source": [
    "**Note:** Variables \" x.16 \" and \" x.20 \" dropped due to high missing values in them"
   ]
  },
  {
   "cell_type": "code",
   "execution_count": 37,
   "id": "044c5301",
   "metadata": {},
   "outputs": [
    {
     "name": "stdout",
     "output_type": "stream",
     "text": [
      "<class 'pandas.core.frame.DataFrame'>\n",
      "Int64Index: 2671 entries, 0 to 2670\n",
      "Data columns (total 19 columns):\n",
      " #   Column  Non-Null Count  Dtype  \n",
      "---  ------  --------------  -----  \n",
      " 0   x.0     2671 non-null   object \n",
      " 1   x.1     2671 non-null   float64\n",
      " 2   x.2     2671 non-null   float64\n",
      " 3   x.3     2671 non-null   object \n",
      " 4   x.4     2671 non-null   object \n",
      " 5   x.5     2671 non-null   object \n",
      " 6   x.6     2671 non-null   object \n",
      " 7   x.7     2671 non-null   float64\n",
      " 8   x.8     2671 non-null   object \n",
      " 9   x.9     2671 non-null   object \n",
      " 10  x.10    2671 non-null   float64\n",
      " 11  x.11    2671 non-null   object \n",
      " 12  x.12    2671 non-null   object \n",
      " 13  x.13    2671 non-null   float64\n",
      " 14  x.14    2671 non-null   float64\n",
      " 15  x.17    2671 non-null   float64\n",
      " 16  x.18    2671 non-null   float64\n",
      " 17  x.19    2671 non-null   float64\n",
      " 18  y       2671 non-null   float64\n",
      "dtypes: float64(10), object(9)\n",
      "memory usage: 481.9+ KB\n"
     ]
    }
   ],
   "source": [
    "## A quick info of the data after being cleaned returned in the right format\n",
    "training_data.info()"
   ]
  },
  {
   "cell_type": "markdown",
   "id": "2efe8d34",
   "metadata": {},
   "source": [
    "#### Exploring through some of the variables after preprocessing"
   ]
  },
  {
   "cell_type": "code",
   "execution_count": 38,
   "id": "48d4fe9c",
   "metadata": {
    "scrolled": true
   },
   "outputs": [
    {
     "data": {
      "text/plain": [
       "b    1848\n",
       "a     823\n",
       "Name: x.0, dtype: int64"
      ]
     },
     "execution_count": 38,
     "metadata": {},
     "output_type": "execute_result"
    }
   ],
   "source": [
    "training_data['x.0'].value_counts()"
   ]
  },
  {
   "cell_type": "markdown",
   "id": "6f858e7b",
   "metadata": {},
   "source": [
    "**Note:** Feature \" x.0 \" had \" ? \" in the original data which has now been grouped into the \" b \" class which is the modal class in the feature"
   ]
  },
  {
   "cell_type": "code",
   "execution_count": 39,
   "id": "7a119951",
   "metadata": {},
   "outputs": [
    {
     "data": {
      "text/plain": [
       "23.25    47\n",
       "35.17    41\n",
       "39.92    37\n",
       "19.17    33\n",
       "20.42    28\n",
       "Name: x.1, dtype: int64"
      ]
     },
     "execution_count": 39,
     "metadata": {},
     "output_type": "execute_result"
    }
   ],
   "source": [
    "## Variables with comma separation now have periods and converted to numerical \n",
    "training_data['x.1'].value_counts().head()"
   ]
  },
  {
   "cell_type": "code",
   "execution_count": 40,
   "id": "a13781dd",
   "metadata": {},
   "outputs": [
    {
     "data": {
      "text/plain": [
       "5.3525     125\n",
       "6.5000      74\n",
       "0.5000      70\n",
       "5.0000      69\n",
       "11.0000     66\n",
       "Name: x.2, dtype: int64"
      ]
     },
     "execution_count": 40,
     "metadata": {},
     "output_type": "execute_result"
    }
   ],
   "source": [
    "# string within numberical variable has been replaced with the median value of the variable\n",
    "training_data['x.2'].value_counts().head()"
   ]
  },
  {
   "cell_type": "code",
   "execution_count": 41,
   "id": "1f6458f3",
   "metadata": {
    "scrolled": true
   },
   "outputs": [
    {
     "data": {
      "text/plain": [
       "c    712\n",
       "q    564\n",
       "w    259\n",
       "x    198\n",
       "i    170\n",
       "a    159\n",
       "m    149\n",
       "k    145\n",
       "e    114\n",
       "f     85\n",
       "d     82\n",
       "j     25\n",
       "r      9\n",
       "Name: x.5, dtype: int64"
      ]
     },
     "execution_count": 41,
     "metadata": {},
     "output_type": "execute_result"
    }
   ],
   "source": [
    "training_data['x.5'].value_counts()"
   ]
  },
  {
   "cell_type": "markdown",
   "id": "7bb58f05",
   "metadata": {},
   "source": [
    "**Note:** Feature \"x.5\" had \" cc \", \" aa \" and \" ff \" in the original dataset. It has been cleaned to return c, a and f. "
   ]
  },
  {
   "cell_type": "markdown",
   "id": "7d43f64e",
   "metadata": {},
   "source": [
    "After data cleaning, the dataset now have data in the right format necessary for further analysis. Also, the dataset now contains 10 variables with data type float64 and 9 with data type object"
   ]
  },
  {
   "cell_type": "markdown",
   "id": "78e486be",
   "metadata": {},
   "source": [
    "### Data Preparation\n",
    "\n",
    "In this section, the data would be prepared for modelling and the following will be done:\n",
    "- **Feature Selection:** This is essential prior to modelling as not all independent variables has good information about the target variable in order to make them good predictors.\n",
    "- **Feature Engineering:** This is the creation of new variable from combination of one or more variable. This will be done if necessary\n",
    "- **Dummy variable creation/ Variable encoding:**  This is necessary as our machine learning algorithms only works best with numerical data. Here 1s and 0s represent the presence or abscence of a sample.\n",
    "- **Data Balancing:**   Since we are dealing with a very imbalance dataset, we will be employing the SMOTE technique to balance our dataset. This is essential to prevent the model biasing toward the majority class."
   ]
  },
  {
   "cell_type": "markdown",
   "id": "0894bf39",
   "metadata": {},
   "source": [
    "### Feature Selection\n",
    "\n",
    "Feature selection is a vital approach in data science because of variety of reasons, some of which will be listed here.\n",
    "\n",
    "- Helps in dimensionalty reduction which can in turn prevent overfitting and improve model performance\n",
    "- To provide faster models and also manage computation.\n",
    "- Better insight is gained as to how each feature contribute to the entire dataset"
   ]
  },
  {
   "cell_type": "markdown",
   "id": "33297584",
   "metadata": {},
   "source": [
    "#### Categorical Feature Selection\n",
    "\n",
    "The Chi-Squared test is used to determine the extent of relationship or dependence between two categorical variables — in this case, one categorical input feature, and the other, a categorical target variable. So we will iterativly run through the categorical features perfroming this test.\n",
    "\n",
    "In case of unencoded categorical features like we will be using here, a contingency table will be created using pandas crosstab which will help relate number of occurence of each category with the target variable after which Chi-squared test will then be carried out.\n",
    "\n",
    "A p-value will be returned along side other statiscal variables like degree of freedom etc. Since we care if the feature is relevant to predicting our target or not, a value lesser than 0.05 will assert that we reject the null hypothesis stating the feature is not relevant for predicting the target variable, in our case **\" y \" : Good or Bad**"
   ]
  },
  {
   "cell_type": "code",
   "execution_count": 42,
   "id": "97bde281",
   "metadata": {},
   "outputs": [],
   "source": [
    "## This function selects categorical variables based on statistical significance to predicting the target variable\n",
    "def select_categorical_feats(data):\n",
    "    '''\n",
    "    This function estimates the statistical significance of categorical \n",
    "    variables with respect to predicting the target variable\n",
    "    \n",
    "    parameters ::\n",
    "    - data :: DataFrame Object\n",
    "    \n",
    "    output ::\n",
    "    - Dataframe result of variables in order of significance\n",
    "    '''\n",
    "    # define an empty dictionary to store chi-test results\n",
    "    chi2_check = {}\n",
    "    \n",
    "    # select only categorical variables\n",
    "    training_data_cat = data.select_dtypes(include = 'object')\n",
    "    \n",
    "    # iteratively pick columns and calculate chi statistic with the target variable\n",
    "    for column in training_data_cat.columns:\n",
    "        chi, p, dof, ex = chi2_contingency(pd.crosstab(data['y'], data[column]))\n",
    "        chi2_check.setdefault('Categorical_Features',[]).append(column)\n",
    "        chi2_check.setdefault('p-values',[]).append(round(p, 3))\n",
    "\n",
    "    # convert the dictionary to a DF\n",
    "    chi2_result = pd.DataFrame(data = chi2_check).sort_values('p-values', ascending=True, ignore_index=True)\n",
    "    \n",
    "    # return result\n",
    "    return chi2_result"
   ]
  },
  {
   "cell_type": "code",
   "execution_count": 43,
   "id": "ce2a4c96",
   "metadata": {},
   "outputs": [],
   "source": [
    "### Using the select categorical feature function return statiscally significant categorical features\n",
    "stat_significant_cat_feats = select_categorical_feats(training_data)"
   ]
  },
  {
   "cell_type": "code",
   "execution_count": 44,
   "id": "bbde3756",
   "metadata": {},
   "outputs": [
    {
     "data": {
      "text/html": [
       "<div>\n",
       "<style scoped>\n",
       "    .dataframe tbody tr th:only-of-type {\n",
       "        vertical-align: middle;\n",
       "    }\n",
       "\n",
       "    .dataframe tbody tr th {\n",
       "        vertical-align: top;\n",
       "    }\n",
       "\n",
       "    .dataframe thead th {\n",
       "        text-align: right;\n",
       "    }\n",
       "</style>\n",
       "<table border=\"1\" class=\"dataframe\">\n",
       "  <thead>\n",
       "    <tr style=\"text-align: right;\">\n",
       "      <th></th>\n",
       "      <th>Categorical_Features</th>\n",
       "      <th>p-values</th>\n",
       "    </tr>\n",
       "  </thead>\n",
       "  <tbody>\n",
       "    <tr>\n",
       "      <th>0</th>\n",
       "      <td>x.3</td>\n",
       "      <td>0.000</td>\n",
       "    </tr>\n",
       "    <tr>\n",
       "      <th>1</th>\n",
       "      <td>x.4</td>\n",
       "      <td>0.000</td>\n",
       "    </tr>\n",
       "    <tr>\n",
       "      <th>2</th>\n",
       "      <td>x.5</td>\n",
       "      <td>0.000</td>\n",
       "    </tr>\n",
       "    <tr>\n",
       "      <th>3</th>\n",
       "      <td>x.6</td>\n",
       "      <td>0.000</td>\n",
       "    </tr>\n",
       "    <tr>\n",
       "      <th>4</th>\n",
       "      <td>x.8</td>\n",
       "      <td>0.000</td>\n",
       "    </tr>\n",
       "    <tr>\n",
       "      <th>5</th>\n",
       "      <td>x.9</td>\n",
       "      <td>0.000</td>\n",
       "    </tr>\n",
       "    <tr>\n",
       "      <th>6</th>\n",
       "      <td>x.12</td>\n",
       "      <td>0.000</td>\n",
       "    </tr>\n",
       "    <tr>\n",
       "      <th>7</th>\n",
       "      <td>x.11</td>\n",
       "      <td>0.026</td>\n",
       "    </tr>\n",
       "    <tr>\n",
       "      <th>8</th>\n",
       "      <td>x.0</td>\n",
       "      <td>0.292</td>\n",
       "    </tr>\n",
       "  </tbody>\n",
       "</table>\n",
       "</div>"
      ],
      "text/plain": [
       "  Categorical_Features  p-values\n",
       "0                  x.3     0.000\n",
       "1                  x.4     0.000\n",
       "2                  x.5     0.000\n",
       "3                  x.6     0.000\n",
       "4                  x.8     0.000\n",
       "5                  x.9     0.000\n",
       "6                 x.12     0.000\n",
       "7                 x.11     0.026\n",
       "8                  x.0     0.292"
      ]
     },
     "execution_count": 44,
     "metadata": {},
     "output_type": "execute_result"
    }
   ],
   "source": [
    "stat_significant_cat_feats "
   ]
  },
  {
   "cell_type": "code",
   "execution_count": 45,
   "id": "e8d5801c",
   "metadata": {},
   "outputs": [
    {
     "data": {
      "text/plain": [
       "['x.3', 'x.4', 'x.5', 'x.6', 'x.8', 'x.9', 'x.12']"
      ]
     },
     "execution_count": 45,
     "metadata": {},
     "output_type": "execute_result"
    }
   ],
   "source": [
    "# Relevant categorical features in a list\n",
    "categorical_features = stat_significant_cat_feats.iloc[:7,0].to_list()\n",
    "categorical_features"
   ]
  },
  {
   "cell_type": "markdown",
   "id": "29ad4492",
   "metadata": {},
   "source": [
    "#### Numerical Feature Selection\n",
    "\n",
    "The Analysis of Variance (ANOVA) F-statistic calculates the ratio of variances of the means of two or more samples of data. The higher this ratio between a numerical input feature and a categorical target feature, the lower the independence between the two and more likely to be useful for model training.\n",
    "\n",
    "Just as explained when using chi2 test for categorical feature selection. The f_classif returns some statistical variables along side a p-value for each feature. We select features with p-values lesser than 0.05 which inferes that the faeture is statiscally significant for the purpose of our prediction with respect to the target variable."
   ]
  },
  {
   "cell_type": "code",
   "execution_count": 46,
   "id": "a032e394",
   "metadata": {},
   "outputs": [],
   "source": [
    "## This function selects numerical variables based on statistical significance to predicting the target variable\n",
    "def select_numerical_feats(data):\n",
    "    '''\n",
    "    This function estimates the statistical significance of numerical \n",
    "    variables with respect to predicting the target variable\n",
    "    \n",
    "    parameters ::\n",
    "    - data :: DataFrame Object\n",
    "    \n",
    "    output ::\n",
    "    - Dataframe result of variables in order of significance\n",
    "    '''\n",
    "    # define an empty dictionary to store results\n",
    "    result = {}\n",
    "    \n",
    "    # select only numerical variables\n",
    "    training_data_num = data.select_dtypes(include = 'number')\n",
    "\n",
    "    for column in training_data_num.columns[:-1]:\n",
    "        # Calculate F Statistic and corresponding p values\n",
    "        F_statistic, p_values = f_classif(np.array(data[column]).reshape(-1,1), data['y'])\n",
    "        \n",
    "        # append relevant statistics to result dictionary\n",
    "        result.setdefault('Numerical_Features',[]).append(column)\n",
    "        result.setdefault('F-Scores',[]).append(round(F_statistic[0], 3))\n",
    "        result.setdefault('p-values',[]).append(round(p_values[0], 3))\n",
    " \n",
    "    # convert the dictionary to a DataFrame\n",
    "    result_df = pd.DataFrame(data = result).sort_values('p-values', ascending=True, ignore_index=True)\n",
    "    \n",
    "    # return result dataframe\n",
    "    return result_df"
   ]
  },
  {
   "cell_type": "code",
   "execution_count": 47,
   "id": "5b8705bf",
   "metadata": {},
   "outputs": [],
   "source": [
    "### Using the select numerical feature function return statistically significant numerical features\n",
    "stat_significant_num_feats = select_numerical_feats(training_data)"
   ]
  },
  {
   "cell_type": "code",
   "execution_count": 48,
   "id": "d6e67070",
   "metadata": {},
   "outputs": [
    {
     "data": {
      "text/html": [
       "<div>\n",
       "<style scoped>\n",
       "    .dataframe tbody tr th:only-of-type {\n",
       "        vertical-align: middle;\n",
       "    }\n",
       "\n",
       "    .dataframe tbody tr th {\n",
       "        vertical-align: top;\n",
       "    }\n",
       "\n",
       "    .dataframe thead th {\n",
       "        text-align: right;\n",
       "    }\n",
       "</style>\n",
       "<table border=\"1\" class=\"dataframe\">\n",
       "  <thead>\n",
       "    <tr style=\"text-align: right;\">\n",
       "      <th></th>\n",
       "      <th>Numerical_Features</th>\n",
       "      <th>F-Scores</th>\n",
       "      <th>p-values</th>\n",
       "    </tr>\n",
       "  </thead>\n",
       "  <tbody>\n",
       "    <tr>\n",
       "      <th>0</th>\n",
       "      <td>x.1</td>\n",
       "      <td>40.877</td>\n",
       "      <td>0.000</td>\n",
       "    </tr>\n",
       "    <tr>\n",
       "      <th>1</th>\n",
       "      <td>x.2</td>\n",
       "      <td>45.926</td>\n",
       "      <td>0.000</td>\n",
       "    </tr>\n",
       "    <tr>\n",
       "      <th>2</th>\n",
       "      <td>x.7</td>\n",
       "      <td>62.837</td>\n",
       "      <td>0.000</td>\n",
       "    </tr>\n",
       "    <tr>\n",
       "      <th>3</th>\n",
       "      <td>x.14</td>\n",
       "      <td>14.637</td>\n",
       "      <td>0.000</td>\n",
       "    </tr>\n",
       "    <tr>\n",
       "      <th>4</th>\n",
       "      <td>x.17</td>\n",
       "      <td>43.829</td>\n",
       "      <td>0.000</td>\n",
       "    </tr>\n",
       "    <tr>\n",
       "      <th>5</th>\n",
       "      <td>x.18</td>\n",
       "      <td>43.922</td>\n",
       "      <td>0.000</td>\n",
       "    </tr>\n",
       "    <tr>\n",
       "      <th>6</th>\n",
       "      <td>x.10</td>\n",
       "      <td>2.315</td>\n",
       "      <td>0.128</td>\n",
       "    </tr>\n",
       "    <tr>\n",
       "      <th>7</th>\n",
       "      <td>x.13</td>\n",
       "      <td>0.557</td>\n",
       "      <td>0.455</td>\n",
       "    </tr>\n",
       "    <tr>\n",
       "      <th>8</th>\n",
       "      <td>x.19</td>\n",
       "      <td>0.557</td>\n",
       "      <td>0.455</td>\n",
       "    </tr>\n",
       "  </tbody>\n",
       "</table>\n",
       "</div>"
      ],
      "text/plain": [
       "  Numerical_Features  F-Scores  p-values\n",
       "0                x.1    40.877     0.000\n",
       "1                x.2    45.926     0.000\n",
       "2                x.7    62.837     0.000\n",
       "3               x.14    14.637     0.000\n",
       "4               x.17    43.829     0.000\n",
       "5               x.18    43.922     0.000\n",
       "6               x.10     2.315     0.128\n",
       "7               x.13     0.557     0.455\n",
       "8               x.19     0.557     0.455"
      ]
     },
     "execution_count": 48,
     "metadata": {},
     "output_type": "execute_result"
    }
   ],
   "source": [
    "stat_significant_num_feats"
   ]
  },
  {
   "cell_type": "code",
   "execution_count": 49,
   "id": "0e03a351",
   "metadata": {},
   "outputs": [
    {
     "data": {
      "text/plain": [
       "['x.1', 'x.2', 'x.7', 'x.14', 'x.17', 'x.18']"
      ]
     },
     "execution_count": 49,
     "metadata": {},
     "output_type": "execute_result"
    }
   ],
   "source": [
    "# Relevant numerical features in a list\n",
    "num_features = stat_significant_num_feats.iloc[:6,0].to_list()\n",
    "num_features"
   ]
  },
  {
   "cell_type": "markdown",
   "id": "327bf774",
   "metadata": {},
   "source": [
    "### Check Variable Correlation\n",
    "\n",
    "Another vital method in feature selection is checking how much each independent variable correlates with one another using spearman's correlation technique.\n",
    "\n",
    "Correlating variables tend to provide similar information about the target variable. Multi-Collinearity will prevent accurate prediction of the target variable as correlating features will predict each other more often than our variable of interst.\n",
    "\n",
    "To Prevent this from happening and also to have an optimized model, we check for correlation and drop one of the features having correlation greater than a specified threshold."
   ]
  },
  {
   "cell_type": "code",
   "execution_count": 50,
   "id": "f8ae4546",
   "metadata": {},
   "outputs": [
    {
     "data": {
      "text/html": [
       "<div>\n",
       "<style scoped>\n",
       "    .dataframe tbody tr th:only-of-type {\n",
       "        vertical-align: middle;\n",
       "    }\n",
       "\n",
       "    .dataframe tbody tr th {\n",
       "        vertical-align: top;\n",
       "    }\n",
       "\n",
       "    .dataframe thead th {\n",
       "        text-align: right;\n",
       "    }\n",
       "</style>\n",
       "<table border=\"1\" class=\"dataframe\">\n",
       "  <thead>\n",
       "    <tr style=\"text-align: right;\">\n",
       "      <th></th>\n",
       "      <th>x.3</th>\n",
       "      <th>x.4</th>\n",
       "      <th>x.5</th>\n",
       "      <th>x.6</th>\n",
       "      <th>x.8</th>\n",
       "      <th>x.9</th>\n",
       "      <th>x.12</th>\n",
       "      <th>x.1</th>\n",
       "      <th>x.2</th>\n",
       "      <th>x.7</th>\n",
       "      <th>x.14</th>\n",
       "      <th>x.17</th>\n",
       "      <th>x.18</th>\n",
       "      <th>y</th>\n",
       "    </tr>\n",
       "  </thead>\n",
       "  <tbody>\n",
       "    <tr>\n",
       "      <th>0</th>\n",
       "      <td>u</td>\n",
       "      <td>g</td>\n",
       "      <td>w</td>\n",
       "      <td>v</td>\n",
       "      <td>t</td>\n",
       "      <td>t</td>\n",
       "      <td>g</td>\n",
       "      <td>30.83</td>\n",
       "      <td>5.3525</td>\n",
       "      <td>1.25</td>\n",
       "      <td>555.5</td>\n",
       "      <td>116.942570</td>\n",
       "      <td>0.578709</td>\n",
       "      <td>1.0</td>\n",
       "    </tr>\n",
       "    <tr>\n",
       "      <th>1</th>\n",
       "      <td>u</td>\n",
       "      <td>g</td>\n",
       "      <td>q</td>\n",
       "      <td>h</td>\n",
       "      <td>t</td>\n",
       "      <td>t</td>\n",
       "      <td>g</td>\n",
       "      <td>58.67</td>\n",
       "      <td>4.4600</td>\n",
       "      <td>3.04</td>\n",
       "      <td>560.0</td>\n",
       "      <td>225.606253</td>\n",
       "      <td>25.409645</td>\n",
       "      <td>1.0</td>\n",
       "    </tr>\n",
       "    <tr>\n",
       "      <th>2</th>\n",
       "      <td>u</td>\n",
       "      <td>g</td>\n",
       "      <td>q</td>\n",
       "      <td>h</td>\n",
       "      <td>t</td>\n",
       "      <td>f</td>\n",
       "      <td>g</td>\n",
       "      <td>24.50</td>\n",
       "      <td>0.5000</td>\n",
       "      <td>1.50</td>\n",
       "      <td>824.0</td>\n",
       "      <td>92.084077</td>\n",
       "      <td>2.317337</td>\n",
       "      <td>1.0</td>\n",
       "    </tr>\n",
       "    <tr>\n",
       "      <th>3</th>\n",
       "      <td>u</td>\n",
       "      <td>g</td>\n",
       "      <td>w</td>\n",
       "      <td>v</td>\n",
       "      <td>t</td>\n",
       "      <td>t</td>\n",
       "      <td>g</td>\n",
       "      <td>27.83</td>\n",
       "      <td>1.5400</td>\n",
       "      <td>3.75</td>\n",
       "      <td>3.0</td>\n",
       "      <td>104.162918</td>\n",
       "      <td>8.045338</td>\n",
       "      <td>1.0</td>\n",
       "    </tr>\n",
       "    <tr>\n",
       "      <th>4</th>\n",
       "      <td>u</td>\n",
       "      <td>g</td>\n",
       "      <td>w</td>\n",
       "      <td>v</td>\n",
       "      <td>t</td>\n",
       "      <td>f</td>\n",
       "      <td>s</td>\n",
       "      <td>20.17</td>\n",
       "      <td>5.6250</td>\n",
       "      <td>1.71</td>\n",
       "      <td>555.5</td>\n",
       "      <td>77.870302</td>\n",
       "      <td>31.111461</td>\n",
       "      <td>1.0</td>\n",
       "    </tr>\n",
       "  </tbody>\n",
       "</table>\n",
       "</div>"
      ],
      "text/plain": [
       "  x.3 x.4 x.5 x.6 x.8 x.9 x.12    x.1     x.2   x.7   x.14        x.17  \\\n",
       "0   u   g   w   v   t   t    g  30.83  5.3525  1.25  555.5  116.942570   \n",
       "1   u   g   q   h   t   t    g  58.67  4.4600  3.04  560.0  225.606253   \n",
       "2   u   g   q   h   t   f    g  24.50  0.5000  1.50  824.0   92.084077   \n",
       "3   u   g   w   v   t   t    g  27.83  1.5400  3.75    3.0  104.162918   \n",
       "4   u   g   w   v   t   f    s  20.17  5.6250  1.71  555.5   77.870302   \n",
       "\n",
       "        x.18    y  \n",
       "0   0.578709  1.0  \n",
       "1  25.409645  1.0  \n",
       "2   2.317337  1.0  \n",
       "3   8.045338  1.0  \n",
       "4  31.111461  1.0  "
      ]
     },
     "execution_count": 50,
     "metadata": {},
     "output_type": "execute_result"
    }
   ],
   "source": [
    "selected_training_data = training_data[categorical_features + num_features + ['y']]\n",
    "selected_training_data.head()"
   ]
  },
  {
   "cell_type": "code",
   "execution_count": 51,
   "id": "d0cc3166",
   "metadata": {},
   "outputs": [
    {
     "data": {
      "text/plain": [
       "(2671, 14)"
      ]
     },
     "execution_count": 51,
     "metadata": {},
     "output_type": "execute_result"
    }
   ],
   "source": [
    "selected_training_data.shape"
   ]
  },
  {
   "cell_type": "code",
   "execution_count": 52,
   "id": "3dadc552",
   "metadata": {},
   "outputs": [
    {
     "data": {
      "image/png": "[encoded data removed]",
      "text/plain": [
       "<Figure size 864x864 with 2 Axes>"
      ]
     },
     "metadata": {},
     "output_type": "display_data"
    }
   ],
   "source": [
    "# calculate pair-wise correlations between the numerical features \n",
    "corrmat = selected_training_data.corr()\n",
    "\n",
    "plt.figure(figsize=(12,12))\n",
    "sns.heatmap(corrmat, annot=True);"
   ]
  },
  {
   "cell_type": "code",
   "execution_count": 53,
   "id": "350f0fbb",
   "metadata": {},
   "outputs": [],
   "source": [
    "# Check for correlation in the training dataset\n",
    "def get_correlated(data, threshold):\n",
    "    '''\n",
    "    This function returns variables with high correlation based on the threshold specified\n",
    "    '''\n",
    "    cols = set()\n",
    "    corrmat = data.corr()\n",
    "    for i in range(len(corrmat.columns)):\n",
    "        for j in range(i):\n",
    "            if corrmat.iloc[i,j] > threshold:\n",
    "                colname = corrmat.columns[i]\n",
    "                cols.add(colname)\n",
    "    return cols"
   ]
  },
  {
   "cell_type": "code",
   "execution_count": 54,
   "id": "b088c717",
   "metadata": {},
   "outputs": [
    {
     "data": {
      "text/plain": [
       "{'x.17', 'x.18'}"
      ]
     },
     "execution_count": 54,
     "metadata": {},
     "output_type": "execute_result"
    }
   ],
   "source": [
    "# features having correlation greater than 0.9 will be dropped from our dataset\n",
    "correlating_variables = get_correlated(selected_training_data, 0.9)\n",
    "\n",
    "## These variables are correlating with other variables in the dataset\n",
    "correlating_variables"
   ]
  },
  {
   "cell_type": "code",
   "execution_count": 55,
   "id": "5d97eb1f",
   "metadata": {},
   "outputs": [
    {
     "data": {
      "text/plain": [
       "(2671, 12)"
      ]
     },
     "execution_count": 55,
     "metadata": {},
     "output_type": "execute_result"
    }
   ],
   "source": [
    "### Drop correlating variables\n",
    "selected_training_data = selected_training_data.drop(list(correlating_variables), axis=1)\n",
    "selected_training_data.shape"
   ]
  },
  {
   "cell_type": "markdown",
   "id": "6659f24f",
   "metadata": {},
   "source": [
    "### Encode Categorical Variables\n",
    "\n",
    "Because scikit learn algorithms won't accept strings, we have to encode our categorical features. **Since these features are nominal, we will apply an encoding that does not add rank to unique element of these features**, thus we will have 0s and 1s for when an observation is absent or present respectively. For this purpose, pandas get dummies will be used. To prevent the dummy variable trap, one of the encoded feature will be dropped."
   ]
  },
  {
   "cell_type": "code",
   "execution_count": 56,
   "id": "ebad6d08",
   "metadata": {},
   "outputs": [],
   "source": [
    "# function to create dummy variables\n",
    "def dummy_creation(data):\n",
    "    '''\n",
    "    This functions create dummy variables by selecting categorical varaibles from a dataframe\n",
    "    \n",
    "    parameters::\n",
    "    - data :: DataFrame Object\n",
    "    \n",
    "    output::\n",
    "    - DataFrame\n",
    "    '''\n",
    "    df_dummies = []\n",
    "    \n",
    "    # select only categorical variables\n",
    "    training_data_cat = data.select_dtypes(include = 'object')\n",
    "    # Iterate throught the columns\n",
    "    for column in training_data_cat.columns:\n",
    "        # using pandas get dummies, create a dummy variable across the selected variable dropping first dummy to \n",
    "        # prevent variable correlation\n",
    "        df_dummies.append(pd.get_dummies(data[column], prefix = column, drop_first=True, prefix_sep = '-'))\n",
    "    # Concatenate all dummy variables together   \n",
    "    df_dummies = pd.concat(df_dummies, axis = 1)\n",
    "    # Concatenate the newly created dummy variables with the old dataset\n",
    "    data = pd.concat([data, df_dummies], axis = 1)\n",
    "    # Drop original categorical variables from which dummy has been created\n",
    "    data.drop(training_data_cat.columns, axis=1,inplace = True)\n",
    "    \n",
    "    # Return dataset\n",
    "    return data"
   ]
  },
  {
   "cell_type": "code",
   "execution_count": 57,
   "id": "44b7294c",
   "metadata": {},
   "outputs": [],
   "source": [
    "# create dummy variables for categorical features in the training dataset\n",
    "training_data = dummy_creation(selected_training_data)"
   ]
  },
  {
   "cell_type": "code",
   "execution_count": 58,
   "id": "77813de0",
   "metadata": {},
   "outputs": [
    {
     "data": {
      "text/html": [
       "<div>\n",
       "<style scoped>\n",
       "    .dataframe tbody tr th:only-of-type {\n",
       "        vertical-align: middle;\n",
       "    }\n",
       "\n",
       "    .dataframe tbody tr th {\n",
       "        vertical-align: top;\n",
       "    }\n",
       "\n",
       "    .dataframe thead th {\n",
       "        text-align: right;\n",
       "    }\n",
       "</style>\n",
       "<table border=\"1\" class=\"dataframe\">\n",
       "  <thead>\n",
       "    <tr style=\"text-align: right;\">\n",
       "      <th></th>\n",
       "      <th>x.1</th>\n",
       "      <th>x.2</th>\n",
       "      <th>x.7</th>\n",
       "      <th>x.14</th>\n",
       "      <th>y</th>\n",
       "      <th>x.3-u</th>\n",
       "      <th>x.3-y</th>\n",
       "      <th>x.4-p</th>\n",
       "      <th>x.5-c</th>\n",
       "      <th>x.5-d</th>\n",
       "      <th>x.5-e</th>\n",
       "      <th>x.5-f</th>\n",
       "      <th>x.5-i</th>\n",
       "      <th>x.5-j</th>\n",
       "      <th>x.5-k</th>\n",
       "      <th>x.5-m</th>\n",
       "      <th>x.5-q</th>\n",
       "      <th>x.5-r</th>\n",
       "      <th>x.5-w</th>\n",
       "      <th>x.5-x</th>\n",
       "      <th>x.6-d</th>\n",
       "      <th>x.6-f</th>\n",
       "      <th>x.6-h</th>\n",
       "      <th>x.6-j</th>\n",
       "      <th>x.6-n</th>\n",
       "      <th>x.6-o</th>\n",
       "      <th>x.6-v</th>\n",
       "      <th>x.6-z</th>\n",
       "      <th>x.8-b</th>\n",
       "      <th>x.8-c</th>\n",
       "      <th>x.8-t</th>\n",
       "      <th>x.9-t</th>\n",
       "      <th>x.12-p</th>\n",
       "      <th>x.12-s</th>\n",
       "    </tr>\n",
       "  </thead>\n",
       "  <tbody>\n",
       "    <tr>\n",
       "      <th>0</th>\n",
       "      <td>30.83</td>\n",
       "      <td>5.3525</td>\n",
       "      <td>1.25</td>\n",
       "      <td>555.5</td>\n",
       "      <td>1.0</td>\n",
       "      <td>1</td>\n",
       "      <td>0</td>\n",
       "      <td>0</td>\n",
       "      <td>0</td>\n",
       "      <td>0</td>\n",
       "      <td>0</td>\n",
       "      <td>0</td>\n",
       "      <td>0</td>\n",
       "      <td>0</td>\n",
       "      <td>0</td>\n",
       "      <td>0</td>\n",
       "      <td>0</td>\n",
       "      <td>0</td>\n",
       "      <td>1</td>\n",
       "      <td>0</td>\n",
       "      <td>0</td>\n",
       "      <td>0</td>\n",
       "      <td>0</td>\n",
       "      <td>0</td>\n",
       "      <td>0</td>\n",
       "      <td>0</td>\n",
       "      <td>1</td>\n",
       "      <td>0</td>\n",
       "      <td>0</td>\n",
       "      <td>0</td>\n",
       "      <td>1</td>\n",
       "      <td>1</td>\n",
       "      <td>0</td>\n",
       "      <td>0</td>\n",
       "    </tr>\n",
       "    <tr>\n",
       "      <th>1</th>\n",
       "      <td>58.67</td>\n",
       "      <td>4.4600</td>\n",
       "      <td>3.04</td>\n",
       "      <td>560.0</td>\n",
       "      <td>1.0</td>\n",
       "      <td>1</td>\n",
       "      <td>0</td>\n",
       "      <td>0</td>\n",
       "      <td>0</td>\n",
       "      <td>0</td>\n",
       "      <td>0</td>\n",
       "      <td>0</td>\n",
       "      <td>0</td>\n",
       "      <td>0</td>\n",
       "      <td>0</td>\n",
       "      <td>0</td>\n",
       "      <td>1</td>\n",
       "      <td>0</td>\n",
       "      <td>0</td>\n",
       "      <td>0</td>\n",
       "      <td>0</td>\n",
       "      <td>0</td>\n",
       "      <td>1</td>\n",
       "      <td>0</td>\n",
       "      <td>0</td>\n",
       "      <td>0</td>\n",
       "      <td>0</td>\n",
       "      <td>0</td>\n",
       "      <td>0</td>\n",
       "      <td>0</td>\n",
       "      <td>1</td>\n",
       "      <td>1</td>\n",
       "      <td>0</td>\n",
       "      <td>0</td>\n",
       "    </tr>\n",
       "    <tr>\n",
       "      <th>2</th>\n",
       "      <td>24.50</td>\n",
       "      <td>0.5000</td>\n",
       "      <td>1.50</td>\n",
       "      <td>824.0</td>\n",
       "      <td>1.0</td>\n",
       "      <td>1</td>\n",
       "      <td>0</td>\n",
       "      <td>0</td>\n",
       "      <td>0</td>\n",
       "      <td>0</td>\n",
       "      <td>0</td>\n",
       "      <td>0</td>\n",
       "      <td>0</td>\n",
       "      <td>0</td>\n",
       "      <td>0</td>\n",
       "      <td>0</td>\n",
       "      <td>1</td>\n",
       "      <td>0</td>\n",
       "      <td>0</td>\n",
       "      <td>0</td>\n",
       "      <td>0</td>\n",
       "      <td>0</td>\n",
       "      <td>1</td>\n",
       "      <td>0</td>\n",
       "      <td>0</td>\n",
       "      <td>0</td>\n",
       "      <td>0</td>\n",
       "      <td>0</td>\n",
       "      <td>0</td>\n",
       "      <td>0</td>\n",
       "      <td>1</td>\n",
       "      <td>0</td>\n",
       "      <td>0</td>\n",
       "      <td>0</td>\n",
       "    </tr>\n",
       "    <tr>\n",
       "      <th>3</th>\n",
       "      <td>27.83</td>\n",
       "      <td>1.5400</td>\n",
       "      <td>3.75</td>\n",
       "      <td>3.0</td>\n",
       "      <td>1.0</td>\n",
       "      <td>1</td>\n",
       "      <td>0</td>\n",
       "      <td>0</td>\n",
       "      <td>0</td>\n",
       "      <td>0</td>\n",
       "      <td>0</td>\n",
       "      <td>0</td>\n",
       "      <td>0</td>\n",
       "      <td>0</td>\n",
       "      <td>0</td>\n",
       "      <td>0</td>\n",
       "      <td>0</td>\n",
       "      <td>0</td>\n",
       "      <td>1</td>\n",
       "      <td>0</td>\n",
       "      <td>0</td>\n",
       "      <td>0</td>\n",
       "      <td>0</td>\n",
       "      <td>0</td>\n",
       "      <td>0</td>\n",
       "      <td>0</td>\n",
       "      <td>1</td>\n",
       "      <td>0</td>\n",
       "      <td>0</td>\n",
       "      <td>0</td>\n",
       "      <td>1</td>\n",
       "      <td>1</td>\n",
       "      <td>0</td>\n",
       "      <td>0</td>\n",
       "    </tr>\n",
       "    <tr>\n",
       "      <th>4</th>\n",
       "      <td>20.17</td>\n",
       "      <td>5.6250</td>\n",
       "      <td>1.71</td>\n",
       "      <td>555.5</td>\n",
       "      <td>1.0</td>\n",
       "      <td>1</td>\n",
       "      <td>0</td>\n",
       "      <td>0</td>\n",
       "      <td>0</td>\n",
       "      <td>0</td>\n",
       "      <td>0</td>\n",
       "      <td>0</td>\n",
       "      <td>0</td>\n",
       "      <td>0</td>\n",
       "      <td>0</td>\n",
       "      <td>0</td>\n",
       "      <td>0</td>\n",
       "      <td>0</td>\n",
       "      <td>1</td>\n",
       "      <td>0</td>\n",
       "      <td>0</td>\n",
       "      <td>0</td>\n",
       "      <td>0</td>\n",
       "      <td>0</td>\n",
       "      <td>0</td>\n",
       "      <td>0</td>\n",
       "      <td>1</td>\n",
       "      <td>0</td>\n",
       "      <td>0</td>\n",
       "      <td>0</td>\n",
       "      <td>1</td>\n",
       "      <td>0</td>\n",
       "      <td>0</td>\n",
       "      <td>1</td>\n",
       "    </tr>\n",
       "  </tbody>\n",
       "</table>\n",
       "</div>"
      ],
      "text/plain": [
       "     x.1     x.2   x.7   x.14    y  x.3-u  x.3-y  x.4-p  x.5-c  x.5-d  x.5-e  \\\n",
       "0  30.83  5.3525  1.25  555.5  1.0      1      0      0      0      0      0   \n",
       "1  58.67  4.4600  3.04  560.0  1.0      1      0      0      0      0      0   \n",
       "2  24.50  0.5000  1.50  824.0  1.0      1      0      0      0      0      0   \n",
       "3  27.83  1.5400  3.75    3.0  1.0      1      0      0      0      0      0   \n",
       "4  20.17  5.6250  1.71  555.5  1.0      1      0      0      0      0      0   \n",
       "\n",
       "   x.5-f  x.5-i  x.5-j  x.5-k  x.5-m  x.5-q  x.5-r  x.5-w  x.5-x  x.6-d  \\\n",
       "0      0      0      0      0      0      0      0      1      0      0   \n",
       "1      0      0      0      0      0      1      0      0      0      0   \n",
       "2      0      0      0      0      0      1      0      0      0      0   \n",
       "3      0      0      0      0      0      0      0      1      0      0   \n",
       "4      0      0      0      0      0      0      0      1      0      0   \n",
       "\n",
       "   x.6-f  x.6-h  x.6-j  x.6-n  x.6-o  x.6-v  x.6-z  x.8-b  x.8-c  x.8-t  \\\n",
       "0      0      0      0      0      0      1      0      0      0      1   \n",
       "1      0      1      0      0      0      0      0      0      0      1   \n",
       "2      0      1      0      0      0      0      0      0      0      1   \n",
       "3      0      0      0      0      0      1      0      0      0      1   \n",
       "4      0      0      0      0      0      1      0      0      0      1   \n",
       "\n",
       "   x.9-t  x.12-p  x.12-s  \n",
       "0      1       0       0  \n",
       "1      1       0       0  \n",
       "2      0       0       0  \n",
       "3      1       0       0  \n",
       "4      0       0       1  "
      ]
     },
     "execution_count": 58,
     "metadata": {},
     "output_type": "execute_result"
    }
   ],
   "source": [
    "training_data.head()"
   ]
  },
  {
   "cell_type": "code",
   "execution_count": 59,
   "id": "5a6c5c5c",
   "metadata": {},
   "outputs": [
    {
     "data": {
      "text/plain": [
       "(2671, 34)"
      ]
     },
     "execution_count": 59,
     "metadata": {},
     "output_type": "execute_result"
    }
   ],
   "source": [
    "training_data.shape"
   ]
  },
  {
   "cell_type": "markdown",
   "id": "c3cc506b",
   "metadata": {},
   "source": [
    "### Apply All Data Cleaning and Data Preparation Steps on Validation Data"
   ]
  },
  {
   "cell_type": "code",
   "execution_count": 60,
   "id": "f5f631a1",
   "metadata": {},
   "outputs": [
    {
     "data": {
      "text/plain": [
       "(490, 21)"
      ]
     },
     "execution_count": 60,
     "metadata": {},
     "output_type": "execute_result"
    }
   ],
   "source": [
    "# Read in validation dataset\n",
    "val_data = pd.read_csv('validation_grover.csv',sep=';', index_col=0)\n",
    "val_data.shape"
   ]
  },
  {
   "cell_type": "code",
   "execution_count": 61,
   "id": "fac36afb",
   "metadata": {},
   "outputs": [
    {
     "data": {
      "text/plain": [
       "bad     336\n",
       "good    154\n",
       "Name: y, dtype: int64"
      ]
     },
     "execution_count": 61,
     "metadata": {},
     "output_type": "execute_result"
    }
   ],
   "source": [
    "val_data['y'].value_counts()"
   ]
  },
  {
   "cell_type": "code",
   "execution_count": 62,
   "id": "3fbcf2fa",
   "metadata": {},
   "outputs": [],
   "source": [
    "### Apply steps\n",
    "\n",
    "# 1. Drop variables with Large Missing/Unknown Values ['x.16' and 'x.20'] just like in training data\n",
    "val_data = val_data.drop(['x.16','x.20'], axis=1)\n",
    "\n",
    "# 2. Encode Target Variable \n",
    "val_data['y'] = val_data['y'].replace({'good': '1', 'bad': '0'})\n",
    "\n",
    "# 3. Clean Data\n",
    "for column in val_data.columns:\n",
    "    val_data[column] = preprocess(val_data, column)\n",
    "\n",
    "# 4. Select significant variables\n",
    "val_data = val_data[categorical_features + num_features + ['y']]\n",
    "\n",
    "# 5. Drop Correlating variables\n",
    "val_data = val_data.drop(list(correlating_variables), axis=1)\n",
    "\n",
    "# 6. Dummy variables creation\n",
    "val_data = dummy_creation(val_data)"
   ]
  },
  {
   "cell_type": "code",
   "execution_count": 63,
   "id": "f0a874fa",
   "metadata": {},
   "outputs": [
    {
     "data": {
      "text/plain": [
       "(490, 34)"
      ]
     },
     "execution_count": 63,
     "metadata": {},
     "output_type": "execute_result"
    }
   ],
   "source": [
    "# validation Data Dimension after cleaning and preparation\n",
    "val_data.shape"
   ]
  },
  {
   "cell_type": "code",
   "execution_count": null,
   "id": "61b226e6",
   "metadata": {},
   "outputs": [],
   "source": []
  },
  {
   "cell_type": "markdown",
   "id": "0deaec7f",
   "metadata": {},
   "source": [
    "### Data Splitting"
   ]
  },
  {
   "cell_type": "code",
   "execution_count": 64,
   "id": "4d09b2aa",
   "metadata": {},
   "outputs": [],
   "source": [
    "# Split training dataset\n",
    "X_train = training_data.drop('y', axis=1)\n",
    "y_train = training_data['y']\n",
    "\n",
    "# Split validation dataset\n",
    "X_val = val_data.drop('y', axis=1)\n",
    "y_val = val_data['y']"
   ]
  },
  {
   "cell_type": "markdown",
   "id": "f26c3a40",
   "metadata": {},
   "source": [
    "### Balance Training Dataset\n",
    "\n",
    "A balanced dataset is vital when building predictive models. Imbalanced dataset will result in a model predicting the majority class most of the time. The result of this being that it understands the trend of the majority class better than the minority class(es).\n",
    "\n",
    "There are different methods of balancing datasets in other to get the best of our trained model. The most common methods are:\n",
    "\n",
    "1. Undersampling\n",
    "2. Oversampling\n",
    "3. Synthetic minority over-sampling technique (SMOTE)\n",
    "\n",
    "Undersampling simply reduces the observation in the majority class(es) balancing it with class with the least observation. Undersampling is not very efficient as information will be lost when obsevations are being dropped from the majority class(es). Oversampling does the opposite but with a little difference when considering SMOTE.\n",
    "\n",
    "For this task, we will be using SMOTE as it has proven to be the best method of generating samples to balance up the minority class(es). SMOTE simply synthesizes elements of the minority class using the existing ones. It randomly chooses a point from the minority class and computes the k-nearest neighbors (default = 5) for this point. The synthetic points are added between the chosen point and its neighbors by choosing a factor between 0 and 1 to multiply the distance.\n",
    "\n",
    "**NOTE:** Data balancing is done only on the training data"
   ]
  },
  {
   "cell_type": "code",
   "execution_count": 65,
   "id": "763ded1e",
   "metadata": {},
   "outputs": [],
   "source": [
    "# Using SMOTE from imbalance learn (imblearn)\n",
    "smote = SMOTE(sampling_strategy='auto', random_state=42)\n",
    "X_train, y_train = smote.fit_resample(X_train, y_train)"
   ]
  },
  {
   "cell_type": "code",
   "execution_count": 66,
   "id": "9d09676f",
   "metadata": {},
   "outputs": [
    {
     "data": {
      "text/plain": [
       "Counter({1.0: 2398, 0.0: 2398})"
      ]
     },
     "execution_count": 66,
     "metadata": {},
     "output_type": "execute_result"
    }
   ],
   "source": [
    "# Check to see if the dataset is now balanced \n",
    "from collections import Counter\n",
    "Counter(y_train)"
   ]
  },
  {
   "cell_type": "code",
   "execution_count": null,
   "id": "bf0a1efb",
   "metadata": {},
   "outputs": [],
   "source": []
  },
  {
   "cell_type": "markdown",
   "id": "e4182dab",
   "metadata": {},
   "source": [
    "### Modelling and Evaluation"
   ]
  },
  {
   "cell_type": "markdown",
   "id": "d902e47d",
   "metadata": {},
   "source": [
    "Now that we have a cleaned, well prepared and balanced training dataset. It is time to train our model. While bunch of machine learning tasks is done during data preprocessing and preparation, modelling also require special skills in order to build a robust model.\n",
    "\n",
    "In this modellind section, I will be doing the following:\n",
    "\n",
    "- Create a pipeline which holds all the processes involved in training the model\n",
    "- Train at least 5 or 6 machine learning algorithms and select the best using Cross Validation Technique\n",
    "- We fit the data on the best algorithm \n",
    "- Hyperparametere Tune the selected algorithm if necessary\n",
    "- Evaluate the newly built model"
   ]
  },
  {
   "cell_type": "markdown",
   "id": "96713647",
   "metadata": {},
   "source": [
    "#### Cross Validation for algorithm selection\n",
    "\n",
    "Cross-validation is a technique majorly used for preventing overfitting. However, it has been used over time in algorithm selection. Cross-validation works by splitting the entire dataset into K number of folds as specified.\n",
    "\n",
    "For every iteration given a K value, the dataset is splitted into training dataset and validation dataset based on the K value at that iteration. The advantage of using cross-validation during training and algortihm selection is that it uses the entire dataset in the process, there by validating on a specified split and train on the rest of the dataset.\n",
    "\n",
    "Running cross-validation of different algorithm returns a mean accuracy score which shows which algorithm fits well with the data.\n",
    "\n",
    "A further step can be to do hyper-parameter tuning on the algorithms with the best mean accuracy to better optimize them for modelling."
   ]
  },
  {
   "cell_type": "code",
   "execution_count": 67,
   "id": "03ffb42d",
   "metadata": {},
   "outputs": [],
   "source": [
    "# This function performs cross-validation on algorithms and return its mean accuracy\n",
    "def select_algo(algo, X, y):\n",
    "    '''\n",
    "    This function runs cross validation on data and returns mean accuracy\n",
    "    \n",
    "    prarmeters ::\n",
    "    - algo :: Machine Learning Algorithm\n",
    "    - X :: Independent variables\n",
    "    - y :: Target Variable\n",
    "    '''\n",
    "    cv_scores=cross_val_score(algo, X, y, cv=10, scoring='accuracy')\n",
    "    \n",
    "    return cv_scores.mean()"
   ]
  },
  {
   "cell_type": "code",
   "execution_count": 68,
   "id": "2e269cb9",
   "metadata": {},
   "outputs": [],
   "source": [
    "## The 6 selected algorithms(classifiers) to test\n",
    "classifiers = []\n",
    "\n",
    "classifiers.append(('Logistic Regression', LogisticRegression()))\n",
    "classifiers.append(('Ada Boost Classifier', AdaBoostClassifier()))\n",
    "classifiers.append(('KNN', KNeighborsClassifier()))\n",
    "classifiers.append(('Decision Tree', DecisionTreeClassifier()))\n",
    "classifiers.append(('Random Forest', RandomForestClassifier()))\n",
    "classifiers.append(('Naive Bayes', GaussianNB()))"
   ]
  },
  {
   "cell_type": "code",
   "execution_count": 69,
   "id": "d7da6db1",
   "metadata": {},
   "outputs": [],
   "source": [
    "#### This process would iteratively pick the above stated algorithms, create a machine learning pipeline and fit the data\n",
    "best_algo = {}\n",
    "\n",
    "for classifier in classifiers:\n",
    "    \n",
    "    ### Pipeline creation\n",
    "    pipeline = Pipeline([('Standard Scaler', StandardScaler())])\n",
    "    pipeline.steps.append(classifier)\n",
    "    \n",
    "    ## The select_algo function is instantiated here, this would return a mean score from the cross-validation process\n",
    "    cv_score = select_algo(pipeline, X_train, y_train)\n",
    "    \n",
    "    best_algo.setdefault('Classifier',[]).append(classifier[0])\n",
    "    best_algo.setdefault('cv_score',[]).append(cv_score)"
   ]
  },
  {
   "cell_type": "code",
   "execution_count": 70,
   "id": "aa470391",
   "metadata": {},
   "outputs": [
    {
     "data": {
      "text/html": [
       "<div>\n",
       "<style scoped>\n",
       "    .dataframe tbody tr th:only-of-type {\n",
       "        vertical-align: middle;\n",
       "    }\n",
       "\n",
       "    .dataframe tbody tr th {\n",
       "        vertical-align: top;\n",
       "    }\n",
       "\n",
       "    .dataframe thead th {\n",
       "        text-align: right;\n",
       "    }\n",
       "</style>\n",
       "<table border=\"1\" class=\"dataframe\">\n",
       "  <thead>\n",
       "    <tr style=\"text-align: right;\">\n",
       "      <th></th>\n",
       "      <th>Classifier</th>\n",
       "      <th>cv_score</th>\n",
       "    </tr>\n",
       "  </thead>\n",
       "  <tbody>\n",
       "    <tr>\n",
       "      <th>0</th>\n",
       "      <td>Random Forest</td>\n",
       "      <td>0.993125</td>\n",
       "    </tr>\n",
       "    <tr>\n",
       "      <th>1</th>\n",
       "      <td>Decision Tree</td>\n",
       "      <td>0.986874</td>\n",
       "    </tr>\n",
       "    <tr>\n",
       "      <th>2</th>\n",
       "      <td>KNN</td>\n",
       "      <td>0.979790</td>\n",
       "    </tr>\n",
       "    <tr>\n",
       "      <th>3</th>\n",
       "      <td>Ada Boost Classifier</td>\n",
       "      <td>0.954357</td>\n",
       "    </tr>\n",
       "    <tr>\n",
       "      <th>4</th>\n",
       "      <td>Logistic Regression</td>\n",
       "      <td>0.938303</td>\n",
       "    </tr>\n",
       "    <tr>\n",
       "      <th>5</th>\n",
       "      <td>Naive Bayes</td>\n",
       "      <td>0.902025</td>\n",
       "    </tr>\n",
       "  </tbody>\n",
       "</table>\n",
       "</div>"
      ],
      "text/plain": [
       "             Classifier  cv_score\n",
       "0         Random Forest  0.993125\n",
       "1         Decision Tree  0.986874\n",
       "2                   KNN  0.979790\n",
       "3  Ada Boost Classifier  0.954357\n",
       "4   Logistic Regression  0.938303\n",
       "5           Naive Bayes  0.902025"
      ]
     },
     "execution_count": 70,
     "metadata": {},
     "output_type": "execute_result"
    }
   ],
   "source": [
    "### The Result of the Cross Validatio process highlighting how the algorithms fit the data\n",
    "pd.DataFrame(best_algo).sort_values('cv_score', ascending=False, ignore_index=True)"
   ]
  },
  {
   "cell_type": "markdown",
   "id": "80cbf403",
   "metadata": {},
   "source": [
    "The Above process shows the *best algorithm* to fit the data with is the **Random Forest Classifier**"
   ]
  },
  {
   "cell_type": "markdown",
   "id": "def830c7",
   "metadata": {},
   "source": [
    "### Hyper Parameter Tuning\n",
    "\n",
    "The Major purpose of tuning parameters of an algorithm is to optimally get the best performance of the algorithm. We select few parameters to tune leaving the rest as default and then run iterations which is the number of times the training will occur randomly picking the parameters against themselves.\n",
    "\n",
    "Tuning parameter can be done using **GridSearch** or **RandomizedSearch**. \n",
    "\n",
    "**RandomizedSearch is used here due to the fact that GridSearch can be computationally expensive**.\n",
    "\n",
    "While they give approximately the same result. GridSearch does more but takes time to fit the data."
   ]
  },
  {
   "cell_type": "code",
   "execution_count": 71,
   "id": "493a25ef",
   "metadata": {},
   "outputs": [
    {
     "name": "stdout",
     "output_type": "stream",
     "text": [
      "Fitting 2 folds for each of 10 candidates, totalling 20 fits\n",
      "Fitting 3 folds for each of 10 candidates, totalling 30 fits\n",
      "Fitting 4 folds for each of 10 candidates, totalling 40 fits\n",
      "Fitting 5 folds for each of 10 candidates, totalling 50 fits\n",
      "Fitting 6 folds for each of 10 candidates, totalling 60 fits\n",
      "Fitting 7 folds for each of 10 candidates, totalling 70 fits\n",
      "Fitting 8 folds for each of 10 candidates, totalling 80 fits\n",
      "Fitting 9 folds for each of 10 candidates, totalling 90 fits\n",
      "Fitting 10 folds for each of 10 candidates, totalling 100 fits\n",
      "Fitting 11 folds for each of 10 candidates, totalling 110 fits\n"
     ]
    }
   ],
   "source": [
    "### Instantiate the classifier\n",
    "rfc = RandomForestClassifier()\n",
    "\n",
    "# Scale training data to be used to prevent bias\n",
    "scaler = StandardScaler()\n",
    "X_train_tune = scaler.fit_transform(X_train)\n",
    "\n",
    "# Randomly select parameters to tune\n",
    "param_dist = dict(\n",
    "    n_estimators = [100,200,300,400,500], \n",
    "    criterion=[\"gini\", \"entropy\"],\n",
    "    random_state=[5,10,15,20,25],\n",
    "    class_weight = [\"balanced\", \"balanced_subsample\"],\n",
    ")\n",
    "\n",
    "## Range of cross-validation during tuninig\n",
    "k_range = range(2, 12)\n",
    "\n",
    "# An empty dictionary to tack tuning results \n",
    "k_score = {}\n",
    "\n",
    "for k in k_range:\n",
    "    rfc_random = RandomizedSearchCV(rfc, param_dist, cv=k, scoring='accuracy',n_iter=10, n_jobs=-1,verbose=1)\n",
    "    rfc_random.fit(X_train_tune, y_train)\n",
    "\n",
    "    k_score.setdefault('Best Accuracy',[]).append(rfc_random.best_score_)\n",
    "    k_score.setdefault('Best tuned parameter',[]).append(rfc_random.best_params_)"
   ]
  },
  {
   "cell_type": "code",
   "execution_count": 72,
   "id": "733b28b9",
   "metadata": {},
   "outputs": [
    {
     "data": {
      "text/html": [
       "<div>\n",
       "<style scoped>\n",
       "    .dataframe tbody tr th:only-of-type {\n",
       "        vertical-align: middle;\n",
       "    }\n",
       "\n",
       "    .dataframe tbody tr th {\n",
       "        vertical-align: top;\n",
       "    }\n",
       "\n",
       "    .dataframe thead th {\n",
       "        text-align: right;\n",
       "    }\n",
       "</style>\n",
       "<table border=\"1\" class=\"dataframe\">\n",
       "  <thead>\n",
       "    <tr style=\"text-align: right;\">\n",
       "      <th></th>\n",
       "      <th>Best Accuracy</th>\n",
       "      <th>Best tuned parameter</th>\n",
       "    </tr>\n",
       "  </thead>\n",
       "  <tbody>\n",
       "    <tr>\n",
       "      <th>0</th>\n",
       "      <td>0.991034</td>\n",
       "      <td>{'random_state': 15, 'n_estimators': 100, 'cri...</td>\n",
       "    </tr>\n",
       "    <tr>\n",
       "      <th>1</th>\n",
       "      <td>0.990828</td>\n",
       "      <td>{'random_state': 20, 'n_estimators': 300, 'cri...</td>\n",
       "    </tr>\n",
       "    <tr>\n",
       "      <th>2</th>\n",
       "      <td>0.992077</td>\n",
       "      <td>{'random_state': 5, 'n_estimators': 300, 'crit...</td>\n",
       "    </tr>\n",
       "    <tr>\n",
       "      <th>3</th>\n",
       "      <td>0.992500</td>\n",
       "      <td>{'random_state': 25, 'n_estimators': 200, 'cri...</td>\n",
       "    </tr>\n",
       "    <tr>\n",
       "      <th>4</th>\n",
       "      <td>0.992083</td>\n",
       "      <td>{'random_state': 10, 'n_estimators': 500, 'cri...</td>\n",
       "    </tr>\n",
       "    <tr>\n",
       "      <th>5</th>\n",
       "      <td>0.992295</td>\n",
       "      <td>{'random_state': 25, 'n_estimators': 400, 'cri...</td>\n",
       "    </tr>\n",
       "    <tr>\n",
       "      <th>6</th>\n",
       "      <td>0.992083</td>\n",
       "      <td>{'random_state': 15, 'n_estimators': 100, 'cri...</td>\n",
       "    </tr>\n",
       "    <tr>\n",
       "      <th>7</th>\n",
       "      <td>0.992495</td>\n",
       "      <td>{'random_state': 10, 'n_estimators': 400, 'cri...</td>\n",
       "    </tr>\n",
       "    <tr>\n",
       "      <th>8</th>\n",
       "      <td>0.993125</td>\n",
       "      <td>{'random_state': 25, 'n_estimators': 100, 'cri...</td>\n",
       "    </tr>\n",
       "    <tr>\n",
       "      <th>9</th>\n",
       "      <td>0.993536</td>\n",
       "      <td>{'random_state': 10, 'n_estimators': 100, 'cri...</td>\n",
       "    </tr>\n",
       "  </tbody>\n",
       "</table>\n",
       "</div>"
      ],
      "text/plain": [
       "   Best Accuracy                               Best tuned parameter\n",
       "0       0.991034  {'random_state': 15, 'n_estimators': 100, 'cri...\n",
       "1       0.990828  {'random_state': 20, 'n_estimators': 300, 'cri...\n",
       "2       0.992077  {'random_state': 5, 'n_estimators': 300, 'crit...\n",
       "3       0.992500  {'random_state': 25, 'n_estimators': 200, 'cri...\n",
       "4       0.992083  {'random_state': 10, 'n_estimators': 500, 'cri...\n",
       "5       0.992295  {'random_state': 25, 'n_estimators': 400, 'cri...\n",
       "6       0.992083  {'random_state': 15, 'n_estimators': 100, 'cri...\n",
       "7       0.992495  {'random_state': 10, 'n_estimators': 400, 'cri...\n",
       "8       0.993125  {'random_state': 25, 'n_estimators': 100, 'cri...\n",
       "9       0.993536  {'random_state': 10, 'n_estimators': 100, 'cri..."
      ]
     },
     "execution_count": 72,
     "metadata": {},
     "output_type": "execute_result"
    }
   ],
   "source": [
    "### Result of Hyperparameter Tuning by Number of CV\n",
    "hyp_result = pd.DataFrame(k_score)\n",
    "hyp_result"
   ]
  },
  {
   "cell_type": "code",
   "execution_count": 73,
   "id": "369fcc13",
   "metadata": {},
   "outputs": [
    {
     "data": {
      "text/plain": [
       "{'random_state': 10,\n",
       " 'n_estimators': 100,\n",
       " 'criterion': 'gini',\n",
       " 'class_weight': 'balanced'}"
      ]
     },
     "execution_count": 73,
     "metadata": {},
     "output_type": "execute_result"
    }
   ],
   "source": [
    "## Get the best parameters returned for Result with the Highes Accuracy\n",
    "best_parameters = hyp_result[hyp_result['Best Accuracy']==hyp_result['Best Accuracy'].max()]['Best tuned parameter'].values[0]\n",
    "best_parameters"
   ]
  },
  {
   "cell_type": "markdown",
   "id": "5a7a4af2",
   "metadata": {},
   "source": [
    "### Fit Random Forest Classifier with the best parameters\n",
    "\n",
    "**Scaling and Normalization**\n",
    "\n",
    "Scaling and Normalization is an essential part of every ML process. The reason for this is to prevent bias in our model training process. Scikit learn algorithms tend to attach more importance to features with large numerical figures making the model bias towards features with large numerics. To prevent this and ensure our algorithm train without bias, we scale the dataset. There are differnt methods of scaling our dataset, StandardScaler, MinMax scaler etc.\n",
    "\n",
    "For this task, StandardScaler is used and as a result, we infuse it in the ML pipeline"
   ]
  },
  {
   "cell_type": "code",
   "execution_count": 75,
   "id": "788c3016",
   "metadata": {},
   "outputs": [],
   "source": [
    "## Instantiate the ML pipeline and fit using the best possible parameters\n",
    "rfc_classifier = Pipeline([\n",
    "    ('Standard Scaler', StandardScaler()),\n",
    "    ('Random Forest', RandomForestClassifier(**best_parameters))\n",
    "])"
   ]
  },
  {
   "cell_type": "code",
   "execution_count": 76,
   "id": "501ef824",
   "metadata": {},
   "outputs": [
    {
     "data": {
      "text/plain": [
       "Pipeline(steps=[('Standard Scaler', StandardScaler()),\n",
       "                ('Random Forest',\n",
       "                 RandomForestClassifier(class_weight='balanced',\n",
       "                                        random_state=10))])"
      ]
     },
     "execution_count": 76,
     "metadata": {},
     "output_type": "execute_result"
    }
   ],
   "source": [
    "### Train the model\n",
    "rfc_classifier.fit(X_train, y_train)"
   ]
  },
  {
   "cell_type": "code",
   "execution_count": 77,
   "id": "67b95bbd",
   "metadata": {},
   "outputs": [],
   "source": [
    "# Make prediction on validation data\n",
    "predictions = rfc_classifier.predict(X_val)"
   ]
  },
  {
   "cell_type": "code",
   "execution_count": 78,
   "id": "5d47b533",
   "metadata": {},
   "outputs": [
    {
     "name": "stdout",
     "output_type": "stream",
     "text": [
      "              precision    recall  f1-score   support\n",
      "\n",
      "         0.0       0.95      0.95      0.95       336\n",
      "         1.0       0.90      0.90      0.90       154\n",
      "\n",
      "    accuracy                           0.93       490\n",
      "   macro avg       0.92      0.92      0.92       490\n",
      "weighted avg       0.93      0.93      0.93       490\n",
      "\n"
     ]
    }
   ],
   "source": [
    "## Classification Report \n",
    "print(classification_report(y_val, predictions))"
   ]
  },
  {
   "cell_type": "code",
   "execution_count": 79,
   "id": "9157cdba",
   "metadata": {},
   "outputs": [
    {
     "data": {
      "image/png": "[encoded data removed]",
      "text/plain": [
       "<Figure size 432x288 with 1 Axes>"
      ]
     },
     "metadata": {},
     "output_type": "display_data"
    }
   ],
   "source": [
    "# Confusion Matrix\n",
    "cm = confusion_matrix(y_val, predictions)\n",
    "\n",
    "ax= plt.subplot()\n",
    "sns.heatmap(cm, annot=True, fmt='g', ax=ax, cbar=False)\n",
    "\n",
    "# # labels, title and ticks\n",
    "ax.set_xlabel('\\n Predicted')\n",
    "ax.set_ylabel('Actual \\n')\n",
    "ax.set_title('Confusion Matrix \\n')\n",
    "ax.xaxis.set_ticklabels(['Bad', 'Good'])\n",
    "ax.yaxis.set_ticklabels(['Bad', 'Good']);"
   ]
  },
  {
   "cell_type": "markdown",
   "id": "fd8beec7",
   "metadata": {},
   "source": [
    "#### Model Evaluation Report"
   ]
  },
  {
   "cell_type": "markdown",
   "id": "66c67254",
   "metadata": {},
   "source": [
    "The classification report shows some of the best metrics to evaluating machine learning classification tasks (Binary Classifications or Multi-class classifications). It gives extended report in terms of the model precision, recall, fi-score and a general accuracy report.\n",
    "\n",
    "From our classification report it is observed the trained model has a general accuracy of **93% on the validation data**, and it performs well when predicting bad samples as evident in the f1-score of 0.95 to 0.90 for good samples. This is due to the proportion of good samples in the validation dataset. While it is not imperative for all the target class to be equal in proportion, it expected they are fairly close to have a robust data.\n",
    "\n",
    "F1-score is the preffered metric used here as it combines precision and recall in its computation and as such provides the best estimate when prediciting class or category of any classification problem rather than just using accuracy.\n",
    "\n",
    "In the confusion matrix, out of 336 Bad observations, the model was able to predict 320 correctly and out of 154 Good observations, it was able to predict 138 correctly. The model is performing well but can be improved on."
   ]
  },
  {
   "cell_type": "markdown",
   "id": "4d4bd64f",
   "metadata": {},
   "source": [
    "### Conclusion\n",
    "\n",
    "Given the model has a 99% accuracy on training data and 93% on validation data shows it is performing well enough and has not overfitted by prediciting unseen data fairly well. \n",
    "\n",
    "The model can be further improved on if more bad samples or observation can be obtained in the training data. This would ensure a much more robust model built on real data instead of relying on SMOTE to balance the data using a synthesized data."
   ]
  },
  {
   "cell_type": "markdown",
   "id": "81da78ab",
   "metadata": {},
   "source": [
    "# ! $\\;\\;\\;\\;\\;\\;\\;\\;\\;\\;\\;\\;\\;\\;\\;\\;\\;\\;\\;\\;\\;\\;$  I HAD FUN WORKING ON THIS! 🙂"
   ]
  },
  {
   "cell_type": "code",
   "execution_count": null,
   "id": "ab99552c",
   "metadata": {},
   "outputs": [],
   "source": []
  }
 ],
 "metadata": {
  "kernelspec": {
   "display_name": "Python 3 (ipykernel)",
   "language": "python",
   "name": "python3"
  },
  "language_info": {
   "codemirror_mode": {
    "name": "ipython",
    "version": 3
   },
   "file_extension": ".py",
   "mimetype": "text/x-python",
   "name": "python",
   "nbconvert_exporter": "python",
   "pygments_lexer": "ipython3",
   "version": "3.8.8"
  }
 },
 "nbformat": 4,
 "nbformat_minor": 5
}
